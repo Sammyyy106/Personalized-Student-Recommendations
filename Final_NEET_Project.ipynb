{
  "nbformat": 4,
  "nbformat_minor": 0,
  "metadata": {
    "colab": {
      "provenance": []
    },
    "kernelspec": {
      "name": "python3",
      "display_name": "Python 3"
    },
    "language_info": {
      "name": "python"
    }
  },
  "cells": [
    {
      "cell_type": "code",
      "execution_count": null,
      "metadata": {
        "colab": {
          "base_uri": "https://localhost:8080/"
        },
        "id": "bSzaPNUpL_ji",
        "outputId": "77ee97ab-f2dd-40f4-d4a0-92d35b4bd7dc"
      },
      "outputs": [
        {
          "output_type": "stream",
          "name": "stdout",
          "text": [
            "Cleaned Quiz Results:\n",
            "       id  quiz_id                       user_id  \\\n",
            "0  336497       51  YcDFSO4ZukTJnnFMgRNVwZTE4j42   \n",
            "1  336448        6  YcDFSO4ZukTJnnFMgRNVwZTE4j42   \n",
            "2  333330       51  YcDFSO4ZukTJnnFMgRNVwZTE4j42   \n",
            "3  333242        6  YcDFSO4ZukTJnnFMgRNVwZTE4j42   \n",
            "4  329504       51  YcDFSO4ZukTJnnFMgRNVwZTE4j42   \n",
            "\n",
            "                    submitted_at                     created_at  \\\n",
            "0  2025-01-17T15:30:18.027+05:30  2025-01-17T15:30:18.044+05:30   \n",
            "1  2025-01-17T15:17:44.042+05:30  2025-01-17T15:17:44.056+05:30   \n",
            "2  2025-01-16T20:13:19.682+05:30  2025-01-16T20:13:19.699+05:30   \n",
            "3  2025-01-16T20:00:11.562+05:30  2025-01-16T20:00:11.573+05:30   \n",
            "4  2025-01-15T20:34:39.462+05:30  2025-01-15T20:34:39.478+05:30   \n",
            "\n",
            "                      updated_at  score  trophy_level  accuracy  speed  ...  \\\n",
            "0  2025-01-17T15:30:18.044+05:30    108             2      0.90    100  ...   \n",
            "1  2025-01-17T15:17:44.056+05:30     92             1      1.00    100  ...   \n",
            "2  2025-01-16T20:13:19.699+05:30    116             2      0.96    100  ...   \n",
            "3  2025-01-16T20:00:11.573+05:30     36             2      0.90    100  ...   \n",
            "4  2025-01-15T20:34:39.478+05:30     36             3      0.31     96  ...   \n",
            "\n",
            "                      started_at                       ended_at  duration  \\\n",
            "0  2025-01-17T15:18:30.000+05:30  2025-01-17T15:30:15.000+05:30       900   \n",
            "1  2025-01-17T15:07:45.000+05:30  2025-01-17T15:17:41.000+05:30       900   \n",
            "2  2025-01-16T20:01:10.000+05:30  2025-01-16T20:13:18.000+05:30       900   \n",
            "3  2025-01-16T19:52:57.000+05:30  2025-01-16T20:00:09.000+05:30       900   \n",
            "4  2025-01-15T20:21:25.000+05:30  2025-01-15T20:34:38.000+05:30       900   \n",
            "\n",
            "   better_than total_questions            rank_text mistakes_corrected  \\\n",
            "0          107             100   Topic Rank - #-171                  9   \n",
            "1          395              23  Topic Rank - #-9140                  3   \n",
            "2          115             100   Topic Rank - #-418                 11   \n",
            "3          152              23  Topic Rank - #-1598                  1   \n",
            "4           35             100   Topic Rank - #2023                  0   \n",
            "\n",
            "  initial_mistake_count                                       response_map  \\\n",
            "0                    12  {'2523': 10109, '2529': 10130, '2533': 10149, ...   \n",
            "1                     3  {'48': 192, '49': 197, '50': 199, '51': 203, '...   \n",
            "2                    12  {'2523': 10109, '2525': 10117, '2528': 10127, ...   \n",
            "3                     2  {'49': 197, '52': 208, '53': 212, '54': 217, '...   \n",
            "4                    20  {'2521': 10099, '2523': 10107, '2532': 10145, ...   \n",
            "\n",
            "   quiz  \n",
            "0   NaN  \n",
            "1   NaN  \n",
            "2   NaN  \n",
            "3   NaN  \n",
            "4   NaN  \n",
            "\n",
            "[5 rows x 26 columns]\n",
            "\n",
            "Processed Quiz Data:\n",
            "   quiz_id                                         quiz_title  \\\n",
            "0       43  Structural Organisation in Animals and Plants (7)   \n",
            "1       43  Structural Organisation in Animals and Plants (7)   \n",
            "2       43  Structural Organisation in Animals and Plants (7)   \n",
            "3       43  Structural Organisation in Animals and Plants (7)   \n",
            "4       43  Structural Organisation in Animals and Plants (7)   \n",
            "\n",
            "                           quiz_topic                      quiz_time  \\\n",
            "0  Structural Organisation in Animals  2024-07-03T00:00:00.000+05:30   \n",
            "1  Structural Organisation in Animals  2024-07-03T00:00:00.000+05:30   \n",
            "2  Structural Organisation in Animals  2024-07-03T00:00:00.000+05:30   \n",
            "3  Structural Organisation in Animals  2024-07-03T00:00:00.000+05:30   \n",
            "4  Structural Organisation in Animals  2024-07-03T00:00:00.000+05:30   \n",
            "\n",
            "   quiz_duration  question_id  \\\n",
            "0            128         1827   \n",
            "1            128         1828   \n",
            "2            128         1829   \n",
            "3            128         1830   \n",
            "4            128         1831   \n",
            "\n",
            "                                            Question  \\\n",
            "0  The tissue which has free surface that faces e...   \n",
            "1  Epithelial tissue is distinguished from connec...   \n",
            "2  The ciliated columnar epithelial cells in huma...   \n",
            "3                The squamous epithelium is found in   \n",
            "4  The kind of epithelium which forms the inner w...   \n",
            "\n",
            "                                             Options  \\\n",
            "0  Muscular tissue, Fluid connective tissue, Epit...   \n",
            "1  large extracellular matrix, contractibility, a...   \n",
            "2  Eustachian tube and stomach lining, bronchiole...   \n",
            "3     stomach, intestine, trachea, air sacs of lungs   \n",
            "4  cuboidal epithelium, columnar epithelium, cili...   \n",
            "\n",
            "                    Correct Answer  \n",
            "0                Epithelial tissue  \n",
            "1                basement membrane  \n",
            "2  bronchioles and fallopian tubes  \n",
            "3                air sacs of lungs  \n",
            "4              squamous epithelium  \n",
            "\n",
            "Quiz New Data:\n",
            "       id  quiz_id                       user_id  \\\n",
            "0  336566       43  7ZXdz3zHuNcdg9agb5YpaOGLQqw2   \n",
            "\n",
            "                    submitted_at                     created_at  \\\n",
            "0  2025-01-17T15:51:29.859+05:30  2025-01-17T15:51:29.871+05:30   \n",
            "\n",
            "                      updated_at  score  trophy_level accuracy  speed  ...  \\\n",
            "0  2025-01-17T15:51:29.871+05:30     32             2     80 %    100  ...   \n",
            "\n",
            "   source   type                     started_at  \\\n",
            "0    live  topic  2025-01-17T16:20:44.000+05:30   \n",
            "\n",
            "                        ended_at duration better_than total_questions  \\\n",
            "0  2025-01-17T16:21:28.000+05:30    15:00          24             128   \n",
            "\n",
            "            rank_text mistakes_corrected  initial_mistake_count  \n",
            "0  Topic Rank - #2402                  6                      8  \n",
            "\n",
            "[1 rows x 24 columns]\n"
          ]
        }
      ],
      "source": [
        "import pandas as pd\n",
        "import numpy as np\n",
        "\n",
        "# Load datasets\n",
        "file_paths = {\n",
        "    \"cleaned_quiz_results\": \"/content/cleaned_quiz_results.csv\",\n",
        "    \"processed_quiz_data\": \"/content/processed_quiz_data (1).csv\",\n",
        "    \"quiz_newdata\": \"/content/quiz_newdata.csv\"\n",
        "}\n",
        "\n",
        "dataframes = {name: pd.read_csv(path) for name, path in file_paths.items()}\n",
        "\n",
        "# Step 1: Data Exploration\n",
        "print(\"Cleaned Quiz Results:\")\n",
        "print(dataframes[\"cleaned_quiz_results\"].head())\n",
        "print(\"\\nProcessed Quiz Data:\")\n",
        "print(dataframes[\"processed_quiz_data\"].head())\n",
        "print(\"\\nQuiz New Data:\")\n",
        "print(dataframes[\"quiz_newdata\"].head())"
      ]
    },
    {
      "cell_type": "code",
      "source": [
        "# Step 2: Performance Analysis\n",
        "performance_metrics = dataframes[\"cleaned_quiz_results\"][\n",
        "    [\"user_id\", \"quiz_id\", \"score\", \"accuracy\", \"mistakes_corrected\", \"initial_mistake_count\", \"better_than\"]\n",
        "]\n",
        "\n",
        "# Convert accuracy to numeric if stored as a percentage string\n",
        "if performance_metrics[\"accuracy\"].dtype == object:\n",
        "    performance_metrics[\"accuracy\"] = performance_metrics[\"accuracy\"].str.replace(\"%\", \"\").astype(float) / 100"
      ],
      "metadata": {
        "id": "j9LdMlZhMQ-e"
      },
      "execution_count": null,
      "outputs": []
    },
    {
      "cell_type": "code",
      "source": [
        "# Summarize user performance\n",
        "user_performance_summary = performance_metrics.groupby(\"user_id\").agg({\n",
        "    \"score\": [\"mean\", \"max\", \"min\"],\n",
        "    \"accuracy\": [\"mean\", \"max\", \"min\"],\n",
        "    \"mistakes_corrected\": [\"mean\", \"max\"],\n",
        "    \"initial_mistake_count\": [\"mean\", \"max\"],\n",
        "    \"better_than\": [\"mean\", \"max\"]\n",
        "}).reset_index()"
      ],
      "metadata": {
        "id": "bQ5Ala7fMYsy",
        "outputId": "169b1a88-e7a5-49d8-97b2-1c793527afe4",
        "colab": {
          "base_uri": "https://localhost:8080/",
          "height": 211
        }
      },
      "execution_count": null,
      "outputs": [
        {
          "output_type": "error",
          "ename": "NameError",
          "evalue": "name 'performance_metrics' is not defined",
          "traceback": [
            "\u001b[0;31m---------------------------------------------------------------------------\u001b[0m",
            "\u001b[0;31mNameError\u001b[0m                                 Traceback (most recent call last)",
            "\u001b[0;32m<ipython-input-1-810dc11d383e>\u001b[0m in \u001b[0;36m<cell line: 0>\u001b[0;34m()\u001b[0m\n\u001b[1;32m      1\u001b[0m \u001b[0;31m# Summarize user performance\u001b[0m\u001b[0;34m\u001b[0m\u001b[0;34m\u001b[0m\u001b[0m\n\u001b[0;32m----> 2\u001b[0;31m user_performance_summary = performance_metrics.groupby(\"user_id\").agg({\n\u001b[0m\u001b[1;32m      3\u001b[0m     \u001b[0;34m\"score\"\u001b[0m\u001b[0;34m:\u001b[0m \u001b[0;34m[\u001b[0m\u001b[0;34m\"mean\"\u001b[0m\u001b[0;34m,\u001b[0m \u001b[0;34m\"max\"\u001b[0m\u001b[0;34m,\u001b[0m \u001b[0;34m\"min\"\u001b[0m\u001b[0;34m]\u001b[0m\u001b[0;34m,\u001b[0m\u001b[0;34m\u001b[0m\u001b[0;34m\u001b[0m\u001b[0m\n\u001b[1;32m      4\u001b[0m     \u001b[0;34m\"accuracy\"\u001b[0m\u001b[0;34m:\u001b[0m \u001b[0;34m[\u001b[0m\u001b[0;34m\"mean\"\u001b[0m\u001b[0;34m,\u001b[0m \u001b[0;34m\"max\"\u001b[0m\u001b[0;34m,\u001b[0m \u001b[0;34m\"min\"\u001b[0m\u001b[0;34m]\u001b[0m\u001b[0;34m,\u001b[0m\u001b[0;34m\u001b[0m\u001b[0;34m\u001b[0m\u001b[0m\n\u001b[1;32m      5\u001b[0m     \u001b[0;34m\"mistakes_corrected\"\u001b[0m\u001b[0;34m:\u001b[0m \u001b[0;34m[\u001b[0m\u001b[0;34m\"mean\"\u001b[0m\u001b[0;34m,\u001b[0m \u001b[0;34m\"max\"\u001b[0m\u001b[0;34m]\u001b[0m\u001b[0;34m,\u001b[0m\u001b[0;34m\u001b[0m\u001b[0;34m\u001b[0m\u001b[0m\n",
            "\u001b[0;31mNameError\u001b[0m: name 'performance_metrics' is not defined"
          ]
        }
      ]
    },
    {
      "cell_type": "code",
      "source": [
        "# Step 3: Identifying Weak Areas\n",
        "weak_performance_threshold = 0.7\n",
        "high_mistake_threshold = 5\n",
        "\n",
        "performance_trends = dataframes[\"cleaned_quiz_results\"].groupby(\"user_id\").agg({\n",
        "    \"accuracy\": [\"mean\"],\n",
        "    \"initial_mistake_count\": [\"mean\"],\n",
        "    \"mistakes_corrected\": [\"mean\"],\n",
        "    \"better_than\": [\"mean\"]\n",
        "}).reset_index()\n",
        "\n",
        "performance_trends.columns = [\"user_id\", \"avg_accuracy\", \"avg_initial_mistakes\", \"avg_corrected_mistakes\", \"avg_better_than\"]\n",
        "performance_trends[\"weak_performance\"] = (performance_trends[\"avg_accuracy\"] < weak_performance_threshold) & (performance_trends[\"avg_initial_mistakes\"] > high_mistake_threshold)\n"
      ],
      "metadata": {
        "id": "3dySpOqcMetI",
        "outputId": "78692b7c-6c36-4d9c-883a-659add7fd725",
        "colab": {
          "base_uri": "https://localhost:8080/",
          "height": 211
        }
      },
      "execution_count": null,
      "outputs": [
        {
          "output_type": "error",
          "ename": "NameError",
          "evalue": "name 'dataframes' is not defined",
          "traceback": [
            "\u001b[0;31m---------------------------------------------------------------------------\u001b[0m",
            "\u001b[0;31mNameError\u001b[0m                                 Traceback (most recent call last)",
            "\u001b[0;32m<ipython-input-2-7a300f3f19b0>\u001b[0m in \u001b[0;36m<cell line: 0>\u001b[0;34m()\u001b[0m\n\u001b[1;32m      3\u001b[0m \u001b[0mhigh_mistake_threshold\u001b[0m \u001b[0;34m=\u001b[0m \u001b[0;36m5\u001b[0m\u001b[0;34m\u001b[0m\u001b[0;34m\u001b[0m\u001b[0m\n\u001b[1;32m      4\u001b[0m \u001b[0;34m\u001b[0m\u001b[0m\n\u001b[0;32m----> 5\u001b[0;31m performance_trends = dataframes[\"cleaned_quiz_results\"].groupby(\"user_id\").agg({\n\u001b[0m\u001b[1;32m      6\u001b[0m     \u001b[0;34m\"accuracy\"\u001b[0m\u001b[0;34m:\u001b[0m \u001b[0;34m[\u001b[0m\u001b[0;34m\"mean\"\u001b[0m\u001b[0;34m]\u001b[0m\u001b[0;34m,\u001b[0m\u001b[0;34m\u001b[0m\u001b[0;34m\u001b[0m\u001b[0m\n\u001b[1;32m      7\u001b[0m     \u001b[0;34m\"initial_mistake_count\"\u001b[0m\u001b[0;34m:\u001b[0m \u001b[0;34m[\u001b[0m\u001b[0;34m\"mean\"\u001b[0m\u001b[0;34m]\u001b[0m\u001b[0;34m,\u001b[0m\u001b[0;34m\u001b[0m\u001b[0;34m\u001b[0m\u001b[0m\n",
            "\u001b[0;31mNameError\u001b[0m: name 'dataframes' is not defined"
          ]
        }
      ]
    },
    {
      "cell_type": "code",
      "source": [
        "# Step 4: Generating Personalized Recommendations\n",
        "def generate_recommendations(user_row):\n",
        "    recommendations = []\n",
        "    if user_row[\"avg_accuracy\"] < weak_performance_threshold:\n",
        "        recommendations.append(\"Focus on accuracy improvement by reviewing past mistakes.\")\n",
        "    if user_row[\"avg_initial_mistakes\"] > high_mistake_threshold:\n",
        "        recommendations.append(\"Practice more on frequently missed question types.\")\n",
        "    if user_row[\"avg_corrected_mistakes\"] < 3:\n",
        "        recommendations.append(\"Actively review and correct mistakes during practice.\")\n",
        "    return recommendations\n",
        "\n",
        "performance_trends[\"recommendations\"] = performance_trends.apply(generate_recommendations, axis=1)"
      ],
      "metadata": {
        "id": "TT2ofLz3MkWl"
      },
      "execution_count": null,
      "outputs": []
    },
    {
      "cell_type": "code",
      "source": [
        "# Aggregating user performance\n",
        "performance_trends = dataframes[\"cleaned_quiz_results\"].groupby(\"user_id\").agg({\n",
        "    \"score\": \"mean\",  # Ensure \"score\" is included\n",
        "    \"accuracy\": \"mean\",\n",
        "    \"initial_mistake_count\": \"mean\",\n",
        "    \"mistakes_corrected\": \"mean\",\n",
        "    \"better_than\": \"mean\"\n",
        "}).reset_index()\n",
        "\n",
        "# Renaming columns for easier access\n",
        "performance_trends.rename(columns={\n",
        "    \"score\": \"avg_score\",\n",
        "    \"accuracy\": \"avg_accuracy\",\n",
        "    \"initial_mistake_count\": \"avg_initial_mistakes\",\n",
        "    \"mistakes_corrected\": \"avg_corrected_mistakes\",\n",
        "    \"better_than\": \"avg_better_than\"\n",
        "}, inplace=True)"
      ],
      "metadata": {
        "id": "WUyBTf32Mn3p"
      },
      "execution_count": null,
      "outputs": []
    },
    {
      "cell_type": "code",
      "source": [
        "# Define a function to generate personalized recommendations\n",
        "def generate_recommendations(user_row):\n",
        "    recommendations = []\n",
        "    if user_row[\"avg_accuracy\"] < 0.7:\n",
        "        recommendations.append(\"Focus on improving accuracy through revision and practice.\")\n",
        "    if user_row[\"avg_initial_mistakes\"] > 5:\n",
        "        recommendations.append(\"Review commonly made mistakes and practice weak areas.\")\n",
        "    if user_row[\"avg_corrected_mistakes\"] < 3:\n",
        "        recommendations.append(\"Make use of detailed explanations to understand mistakes.\")\n",
        "    if not recommendations:\n",
        "        recommendations.append(\"Great work! Maintain consistency and practice higher-level questions.\")\n",
        "    return \", \".join(recommendations)  # Convert list to string\n",
        "\n",
        "# Apply the function to generate recommendations\n",
        "performance_trends[\"recommendations\"] = performance_trends.apply(generate_recommendations, axis=1)"
      ],
      "metadata": {
        "id": "pXBwiYFRNwUa"
      },
      "execution_count": null,
      "outputs": []
    },
    {
      "cell_type": "code",
      "source": [
        "# Step 5: (Optional) Predicting NEET Rank - Basic Probabilistic Model\n",
        "def predict_neet_rank(accuracy, score):\n",
        "    base_rank = 50000  # Approximate base rank\n",
        "    score_factor = (1 - (score / 200)) * 10000  # Score impact\n",
        "    accuracy_factor = (1 - accuracy) * 10000  # Accuracy impact\n",
        "    predicted_rank = base_rank - score_factor - accuracy_factor\n",
        "    return max(1, int(predicted_rank))\n",
        "\n",
        "performance_trends[\"predicted_neet_rank\"] = performance_trends.apply(\n",
        "    lambda row: predict_neet_rank(row[\"avg_accuracy\"], row[\"avg_score\"]), axis=1\n",
        ")\n",
        "\n",
        "# Display final recommendations\n",
        "print(performance_trends[[\"user_id\", \"recommendations\", \"predicted_neet_rank\"]])"
      ],
      "metadata": {
        "colab": {
          "base_uri": "https://localhost:8080/"
        },
        "id": "X5J_GCuZMrL_",
        "outputId": "f2bb3785-6eab-441d-d68e-0b0d741e7ce5"
      },
      "execution_count": null,
      "outputs": [
        {
          "output_type": "stream",
          "name": "stdout",
          "text": [
            "                        user_id  \\\n",
            "0  YcDFSO4ZukTJnnFMgRNVwZTE4j42   \n",
            "\n",
            "                                     recommendations  predicted_neet_rank  \n",
            "0  Review commonly made mistakes and practice wea...                40235  \n"
          ]
        }
      ]
    },
    {
      "cell_type": "code",
      "source": [
        "from sklearn.metrics import mean_absolute_error, mean_squared_error\n",
        "\n",
        "# Sample dataset for testing (replace with actual NEET data if available)\n",
        "actual_neet_data = pd.DataFrame({\n",
        "    \"user_id\": [\"student_1\", \"student_2\", \"student_3\"],\n",
        "    \"actual_score\": [180, 120, 60],  # Actual scores from NEET exam\n",
        "    \"actual_rank\": [500, 15000, 45000]  # Actual ranks\n",
        "})\n",
        "\n",
        "# Predict NEET rank using our model\n",
        "actual_neet_data[\"predicted_neet_rank\"] = actual_neet_data.apply(\n",
        "    lambda row: predict_neet_rank(row[\"actual_score\"] / 200, row[\"actual_score\"]), axis=1\n",
        ")\n",
        "\n",
        "# Calculate Error Metrics\n",
        "mae = mean_absolute_error(actual_neet_data[\"actual_rank\"], actual_neet_data[\"predicted_neet_rank\"])\n",
        "mse = mean_squared_error(actual_neet_data[\"actual_rank\"], actual_neet_data[\"predicted_neet_rank\"])\n",
        "\n",
        "print(f\"Mean Absolute Error (MAE): {mae}\")\n",
        "print(f\"Mean Squared Error (MSE): {mse}\")\n"
      ],
      "metadata": {
        "colab": {
          "base_uri": "https://localhost:8080/"
        },
        "id": "IFfZU1nQNl9U",
        "outputId": "329bf464-d491-464c-92a8-169a3b068af6"
      },
      "execution_count": null,
      "outputs": [
        {
          "output_type": "stream",
          "name": "stdout",
          "text": [
            "Mean Absolute Error (MAE): 27833.333333333332\n",
            "Mean Squared Error (MSE): 1022083333.3333334\n"
          ]
        }
      ]
    },
    {
      "cell_type": "code",
      "source": [
        "import numpy as np\n",
        "\n",
        "# Simulated NEET Score-to-Rank Mapping (Approximate Percentile Distribution)\n",
        "def estimate_neet_rank(score):\n",
        "    # Simulated percentile-based rank distribution (hypothetical, based on real trends)\n",
        "    score_rank_mapping = {\n",
        "        200: 1,  # Top scorer\n",
        "        180: 500,\n",
        "        160: 5000,\n",
        "        140: 15000,\n",
        "        120: 30000,\n",
        "        100: 50000,\n",
        "        80: 70000,\n",
        "        60: 85000,\n",
        "        40: 95000,\n",
        "        20: 99000,\n",
        "        0: 100000  # Lowest rank\n",
        "    }\n",
        "\n",
        "    # Interpolating ranks for intermediate scores\n",
        "    scores = np.array(list(score_rank_mapping.keys()))\n",
        "    ranks = np.array(list(score_rank_mapping.values()))\n",
        "\n",
        "    # Predict rank using interpolation\n",
        "    predicted_rank = np.interp(score, scores, ranks)\n",
        "    return int(predicted_rank)\n",
        "\n",
        "# Apply Improved NEET Rank Prediction\n",
        "actual_neet_data[\"predicted_neet_rank\"] = actual_neet_data[\"actual_score\"].apply(estimate_neet_rank)\n",
        "\n",
        "# Recalculate Error Metrics\n",
        "mae = mean_absolute_error(actual_neet_data[\"actual_rank\"], actual_neet_data[\"predicted_neet_rank\"])\n",
        "mse = mean_squared_error(actual_neet_data[\"actual_rank\"], actual_neet_data[\"predicted_neet_rank\"])\n",
        "\n",
        "print(f\"Improved Mean Absolute Error (MAE): {mae}\")\n",
        "print(f\"Improved Mean Squared Error (MSE): {mse}\")\n"
      ],
      "metadata": {
        "colab": {
          "base_uri": "https://localhost:8080/"
        },
        "id": "DtQSKI-GPkAg",
        "outputId": "b8549934-2a26-443a-f24b-1a697a7a1a02"
      },
      "execution_count": null,
      "outputs": [
        {
          "output_type": "stream",
          "name": "stdout",
          "text": [
            "Improved Mean Absolute Error (MAE): 79833.33333333333\n",
            "Improved Mean Squared Error (MSE): 6716750000.0\n"
          ]
        }
      ]
    },
    {
      "cell_type": "code",
      "source": [
        "import numpy as np\n",
        "\n",
        "def predict_neet_rank_fixed(score):\n",
        "    \"\"\"\n",
        "    Predict NEET rank using a logarithmic scaling function to mimic real-world rank distribution.\n",
        "    \"\"\"\n",
        "    A = 100000  # Max possible rank\n",
        "    B = 0.05    # Scaling factor (adjust based on real data)\n",
        "\n",
        "    predicted_rank = A * np.exp(-B * score)  # Logarithmic decay formula\n",
        "    return int(predicted_rank)\n",
        "\n",
        "# Apply the improved rank prediction model\n",
        "actual_neet_data[\"predicted_neet_rank\"] = actual_neet_data[\"actual_score\"].apply(predict_neet_rank_fixed)\n",
        "\n",
        "# Recalculate Error Metrics\n",
        "mae = mean_absolute_error(actual_neet_data[\"actual_rank\"], actual_neet_data[\"predicted_neet_rank\"])\n",
        "mse = mean_squared_error(actual_neet_data[\"actual_rank\"], actual_neet_data[\"predicted_neet_rank\"])\n",
        "\n",
        "print(f\"Final Improved Mean Absolute Error (MAE): {mae}\")\n",
        "print(f\"Final Improved Mean Squared Error (MSE): {mse}\")\n"
      ],
      "metadata": {
        "colab": {
          "base_uri": "https://localhost:8080/"
        },
        "id": "w7lzYS7PPzko",
        "outputId": "b5f37c5c-678a-4dce-9baa-3bef4ecc6d6e"
      },
      "execution_count": null,
      "outputs": [
        {
          "output_type": "stream",
          "name": "stdout",
          "text": [
            "Final Improved Mean Absolute Error (MAE): 18421.0\n",
            "Final Improved Mean Squared Error (MSE): 606549879.0\n"
          ]
        }
      ]
    },
    {
      "cell_type": "code",
      "source": [
        "import numpy as np\n",
        "import pandas as pd\n",
        "import matplotlib.pyplot as plt\n",
        "from sklearn.preprocessing import PolynomialFeatures\n",
        "from sklearn.linear_model import LinearRegression\n",
        "from sklearn.metrics import mean_absolute_error, mean_squared_error\n",
        "\n",
        "# Sample NEET score-to-rank mapping (Replace with real NEET data if available)\n",
        "neet_scores = np.array([200, 180, 160, 140, 120, 100, 80, 60, 40, 20, 0])  # Scores\n",
        "neet_ranks = np.array([1, 500, 5000, 15000, 30000, 50000, 70000, 85000, 95000, 99000, 100000])  # Ranks\n",
        "\n",
        "# Fit a Polynomial Regression Model (degree = 2 for quadratic fit)\n",
        "poly = PolynomialFeatures(degree=2)\n",
        "X_poly = poly.fit_transform(neet_scores.reshape(-1, 1))\n",
        "\n",
        "model = LinearRegression()\n",
        "model.fit(X_poly, neet_ranks)\n",
        "\n",
        "# Function to predict NEET rank using trained polynomial model\n",
        "def predict_neet_rank_poly(score):\n",
        "    score_array = np.array([[score]])  # Convert to array\n",
        "    score_poly = poly.transform(score_array)  # Transform using polynomial features\n",
        "    predicted_rank = model.predict(score_poly)[0]  # Predict rank\n",
        "    return max(1, int(predicted_rank))  # Ensure valid rank\n",
        "\n",
        "# Apply model to test data\n",
        "actual_neet_data[\"predicted_neet_rank\"] = actual_neet_data[\"actual_score\"].apply(predict_neet_rank_poly)\n",
        "\n",
        "# Evaluate the model\n",
        "mae = mean_absolute_error(actual_neet_data[\"actual_rank\"], actual_neet_data[\"predicted_neet_rank\"])\n",
        "mse = mean_squared_error(actual_neet_data[\"actual_rank\"], actual_neet_data[\"predicted_neet_rank\"])\n",
        "\n",
        "print(f\"Polynomial Regression MAE: {mae}\")\n",
        "print(f\"Polynomial Regression MSE: {mse}\")\n"
      ],
      "metadata": {
        "colab": {
          "base_uri": "https://localhost:8080/"
        },
        "id": "XMxRo-ZAQGEo",
        "outputId": "4b371727-f01f-41c4-821d-c5c4b205ad84"
      },
      "execution_count": null,
      "outputs": [
        {
          "output_type": "stream",
          "name": "stdout",
          "text": [
            "Polynomial Regression MAE: 17579.666666666668\n",
            "Polynomial Regression MSE: 461219310.3333333\n"
          ]
        }
      ]
    },
    {
      "cell_type": "code",
      "source": [
        "# Increase Polynomial Degree to 3 or 4\n",
        "poly = PolynomialFeatures(degree=3)  # Try degree=3 or 4\n",
        "X_poly = poly.fit_transform(neet_scores.reshape(-1, 1))\n",
        "\n",
        "# Train Polynomial Regression Model\n",
        "model = LinearRegression()\n",
        "model.fit(X_poly, neet_ranks)\n",
        "\n",
        "# Define Prediction Function with Higher Degree Polynomial\n",
        "def predict_neet_rank_poly(score):\n",
        "    score_array = np.array([[score]])  # Convert to array\n",
        "    score_poly = poly.transform(score_array)  # Transform using polynomial features\n",
        "    predicted_rank = model.predict(score_poly)[0]  # Predict rank\n",
        "    return max(1, int(predicted_rank))  # Ensure valid rank\n",
        "\n",
        "# Apply Model to Test Data\n",
        "actual_neet_data[\"predicted_neet_rank\"] = actual_neet_data[\"actual_score\"].apply(predict_neet_rank_poly)\n",
        "\n",
        "# Evaluate Model\n",
        "mae = mean_absolute_error(actual_neet_data[\"actual_rank\"], actual_neet_data[\"predicted_neet_rank\"])\n",
        "mse = mean_squared_error(actual_neet_data[\"actual_rank\"], actual_neet_data[\"predicted_neet_rank\"])\n",
        "\n",
        "print(f\"High-Degree Polynomial Regression MAE: {mae}\")\n",
        "print(f\"High-Degree Polynomial Regression MSE: {mse}\")\n"
      ],
      "metadata": {
        "colab": {
          "base_uri": "https://localhost:8080/"
        },
        "id": "vmyfbnFvQcrM",
        "outputId": "d93602ba-f487-437b-95c2-cce0780bc0b2"
      },
      "execution_count": null,
      "outputs": [
        {
          "output_type": "stream",
          "name": "stdout",
          "text": [
            "High-Degree Polynomial Regression MAE: 18776.666666666668\n",
            "High-Degree Polynomial Regression MSE: 597785140.6666666\n"
          ]
        }
      ]
    },
    {
      "cell_type": "code",
      "source": [
        "from xgboost import XGBRegressor\n",
        "from sklearn.model_selection import train_test_split\n",
        "from sklearn.metrics import mean_absolute_error, mean_squared_error\n",
        "import numpy as np\n",
        "\n",
        "# Sample NEET data (Replace this with actual historical NEET score-rank data)\n",
        "neet_scores = np.array([200, 180, 160, 140, 120, 100, 80, 60, 40, 20, 0])  # Scores\n",
        "neet_ranks = np.array([1, 500, 5000, 15000, 30000, 50000, 70000, 85000, 95000, 99000, 100000])  # Ranks\n",
        "\n",
        "# Split data into train and test sets\n",
        "X_train, X_test, y_train, y_test = train_test_split(neet_scores.reshape(-1, 1), neet_ranks, test_size=0.2, random_state=42)\n",
        "\n",
        "# Train XGBoost Model\n",
        "xgb_model = XGBRegressor(n_estimators=500, learning_rate=0.05, max_depth=5, objective=\"reg:squarederror\")\n",
        "xgb_model.fit(X_train, y_train)\n",
        "\n",
        "# Define Prediction Function using XGBoost\n",
        "def predict_neet_rank_xgb(score):\n",
        "    return int(xgb_model.predict(np.array([[score]]))[0])\n",
        "\n",
        "# Apply Model to Test Data\n",
        "actual_neet_data[\"predicted_neet_rank\"] = actual_neet_data[\"actual_score\"].apply(predict_neet_rank_xgb)\n",
        "\n",
        "# Evaluate Model Performance\n",
        "mae = mean_absolute_error(actual_neet_data[\"actual_rank\"], actual_neet_data[\"predicted_neet_rank\"])\n",
        "mse = mean_squared_error(actual_neet_data[\"actual_rank\"], actual_neet_data[\"predicted_neet_rank\"])\n",
        "\n",
        "print(f\"XGBoost Regression MAE: {mae}\")\n",
        "print(f\"XGBoost Regression MSE: {mse}\")\n"
      ],
      "metadata": {
        "colab": {
          "base_uri": "https://localhost:8080/"
        },
        "id": "MbHLD9vCQmog",
        "outputId": "fc67b3ec-4c01-4ecd-e4e1-76ea777c163e"
      },
      "execution_count": null,
      "outputs": [
        {
          "output_type": "stream",
          "name": "stdout",
          "text": [
            "XGBoost Regression MAE: 18333.0\n",
            "XGBoost Regression MSE: 608306667.0\n"
          ]
        }
      ]
    },
    {
      "cell_type": "code",
      "source": [
        "from sklearn.ensemble import RandomForestRegressor\n",
        "\n",
        "# Train a Random Forest Model\n",
        "rf_model = RandomForestRegressor(n_estimators=500, max_depth=10, random_state=42)\n",
        "rf_model.fit(X_train, y_train)\n",
        "\n",
        "# Define Prediction Function using Random Forest\n",
        "def predict_neet_rank_rf(score):\n",
        "    return int(rf_model.predict(np.array([[score]]))[0])\n",
        "\n",
        "# Apply Model to Test Data\n",
        "actual_neet_data[\"predicted_neet_rank\"] = actual_neet_data[\"actual_score\"].apply(predict_neet_rank_rf)\n",
        "\n",
        "# Evaluate Model\n",
        "mae_rf = mean_absolute_error(actual_neet_data[\"actual_rank\"], actual_neet_data[\"predicted_neet_rank\"])\n",
        "mse_rf = mean_squared_error(actual_neet_data[\"actual_rank\"], actual_neet_data[\"predicted_neet_rank\"])\n",
        "\n",
        "print(f\"Random Forest Regression MAE: {mae_rf}\")\n",
        "print(f\"Random Forest Regression MSE: {mse_rf}\")\n"
      ],
      "metadata": {
        "colab": {
          "base_uri": "https://localhost:8080/"
        },
        "id": "DDFoBzDaRACo",
        "outputId": "f8d9db79-b030-4982-d0b0-adc9803d161c"
      },
      "execution_count": null,
      "outputs": [
        {
          "output_type": "stream",
          "name": "stdout",
          "text": [
            "Random Forest Regression MAE: 19704.0\n",
            "Random Forest Regression MSE: 652526408.0\n"
          ]
        }
      ]
    },
    {
      "cell_type": "code",
      "source": [
        "from xgboost import XGBRegressor\n",
        "from sklearn.model_selection import train_test_split\n",
        "from sklearn.metrics import mean_absolute_error, mean_squared_error\n",
        "import numpy as np\n",
        "import pandas as pd\n",
        "\n",
        "# Sample NEET data (Replace with real NEET data if available)\n",
        "neet_scores = np.array([200, 180, 160, 140, 120, 100, 80, 60, 40, 20, 0])  # Scores\n",
        "neet_ranks = np.array([1, 500, 5000, 15000, 30000, 50000, 70000, 85000, 95000, 99000, 100000])  # Ranks\n",
        "\n",
        "# Split data into train and test sets\n",
        "X_train, X_test, y_train, y_test = train_test_split(neet_scores.reshape(-1, 1), neet_ranks, test_size=0.2, random_state=42)\n",
        "\n",
        "# Train XGBoost Model\n",
        "xgb_model = XGBRegressor(n_estimators=1000, learning_rate=0.01, max_depth=6, objective=\"reg:squarederror\")\n",
        "xgb_model.fit(X_train, y_train)\n",
        "\n",
        "# Define Prediction Function using XGBoost\n",
        "def predict_neet_rank_xgb(score):\n",
        "    return int(xgb_model.predict(np.array([[score]]))[0])\n",
        "\n",
        "# Apply Model to Test Data\n",
        "actual_neet_data = pd.DataFrame({\"actual_score\": [200, 150, 100, 50, 10], \"actual_rank\": [1, 10000, 50000, 90000, 99900]})\n",
        "actual_neet_data[\"predicted_neet_rank\"] = actual_neet_data[\"actual_score\"].apply(predict_neet_rank_xgb)\n",
        "\n",
        "# Evaluate Model Performance\n",
        "mae = mean_absolute_error(actual_neet_data[\"actual_rank\"], actual_neet_data[\"predicted_neet_rank\"])\n",
        "mse = mean_squared_error(actual_neet_data[\"actual_rank\"], actual_neet_data[\"predicted_neet_rank\"])\n",
        "\n",
        "print(f\"🔥 Best Model - XGBoost Regression 🔥\")\n",
        "print(f\"✅ Mean Absolute Error (MAE): {mae}\")\n",
        "print(f\"✅ Mean Squared Error (MSE): {mse}\")\n"
      ],
      "metadata": {
        "colab": {
          "base_uri": "https://localhost:8080/"
        },
        "id": "dcakv7sKRoMX",
        "outputId": "e1ab1034-dbdb-42cc-fae5-13b45b39cad0"
      },
      "execution_count": null,
      "outputs": [
        {
          "output_type": "stream",
          "name": "stdout",
          "text": [
            "🔥 Best Model - XGBoost Regression 🔥\n",
            "✅ Mean Absolute Error (MAE): 6179.4\n",
            "✅ Mean Squared Error (MSE): 89962149.4\n"
          ]
        }
      ]
    },
    {
      "cell_type": "code",
      "source": [
        "from xgboost import XGBRegressor\n",
        "from sklearn.model_selection import train_test_split, GridSearchCV\n",
        "from sklearn.metrics import mean_absolute_error, mean_squared_error\n",
        "import numpy as np\n",
        "import pandas as pd\n",
        "\n",
        "# Sample NEET data (Replace this with a larger real NEET dataset)\n",
        "neet_scores = np.array([200, 190, 180, 170, 160, 150, 140, 130, 120, 110, 100, 90, 80, 70, 60, 50, 40, 30, 20, 10, 0])\n",
        "neet_ranks = np.array([1, 100, 500, 2000, 5000, 10000, 15000, 20000, 30000, 40000, 50000, 60000, 70000, 80000, 85000, 90000, 95000, 97000, 99000, 99900, 100000])\n",
        "\n",
        "# Split data into training and testing\n",
        "X_train, X_test, y_train, y_test = train_test_split(neet_scores.reshape(-1, 1), neet_ranks, test_size=0.2, random_state=42)\n",
        "\n",
        "# Define the XGBoost model\n",
        "xgb_model = XGBRegressor(objective=\"reg:squarederror\")\n",
        "\n",
        "# Define hyperparameter grid\n",
        "param_grid = {\n",
        "    \"n_estimators\": [500, 1000, 1500],\n",
        "    \"learning_rate\": [0.01, 0.05, 0.1],\n",
        "    \"max_depth\": [4, 6, 8],\n",
        "    \"subsample\": [0.8, 1.0],\n",
        "    \"colsample_bytree\": [0.8, 1.0]\n",
        "}\n",
        "\n",
        "# Perform Grid Search to find best hyperparameters\n",
        "grid_search = GridSearchCV(xgb_model, param_grid, cv=5, scoring=\"neg_mean_absolute_error\", verbose=2)\n",
        "grid_search.fit(X_train, y_train)\n",
        "\n",
        "# Get the best model\n",
        "best_xgb = grid_search.best_estimator_\n",
        "\n",
        "# Predict using optimized model\n",
        "actual_neet_data = pd.DataFrame({\"actual_score\": [200, 150, 100, 50, 10], \"actual_rank\": [1, 10000, 50000, 90000, 99900]})\n",
        "actual_neet_data[\"predicted_neet_rank\"] = actual_neet_data[\"actual_score\"].apply(lambda x: int(best_xgb.predict(np.array([[x]]))[0]))\n",
        "\n",
        "# Evaluate performance\n",
        "mae = mean_absolute_error(actual_neet_data[\"actual_rank\"], actual_neet_data[\"predicted_neet_rank\"])\n",
        "mse = mean_squared_error(actual_neet_data[\"actual_rank\"], actual_neet_data[\"predicted_neet_rank\"])\n",
        "\n",
        "print(f\"🔥 Optimized XGBoost Model 🔥\")\n",
        "print(f\"✅ Best Mean Absolute Error (MAE): {mae}\")\n",
        "print(f\"✅ Best Mean Squared Error (MSE): {mse}\")\n"
      ],
      "metadata": {
        "colab": {
          "base_uri": "https://localhost:8080/",
          "height": 356
        },
        "id": "9N9IEC8MRwSK",
        "outputId": "0ee45aed-d235-479a-a85f-46d5997d60b9"
      },
      "execution_count": null,
      "outputs": [
        {
          "output_type": "error",
          "ename": "AttributeError",
          "evalue": "'super' object has no attribute '__sklearn_tags__'",
          "traceback": [
            "\u001b[0;31m---------------------------------------------------------------------------\u001b[0m",
            "\u001b[0;31mAttributeError\u001b[0m                            Traceback (most recent call last)",
            "\u001b[0;32m<ipython-input-22-ef8feb889c09>\u001b[0m in \u001b[0;36m<cell line: 0>\u001b[0;34m()\u001b[0m\n\u001b[1;32m     26\u001b[0m \u001b[0;31m# Perform Grid Search to find best hyperparameters\u001b[0m\u001b[0;34m\u001b[0m\u001b[0;34m\u001b[0m\u001b[0m\n\u001b[1;32m     27\u001b[0m \u001b[0mgrid_search\u001b[0m \u001b[0;34m=\u001b[0m \u001b[0mGridSearchCV\u001b[0m\u001b[0;34m(\u001b[0m\u001b[0mxgb_model\u001b[0m\u001b[0;34m,\u001b[0m \u001b[0mparam_grid\u001b[0m\u001b[0;34m,\u001b[0m \u001b[0mcv\u001b[0m\u001b[0;34m=\u001b[0m\u001b[0;36m5\u001b[0m\u001b[0;34m,\u001b[0m \u001b[0mscoring\u001b[0m\u001b[0;34m=\u001b[0m\u001b[0;34m\"neg_mean_absolute_error\"\u001b[0m\u001b[0;34m,\u001b[0m \u001b[0mverbose\u001b[0m\u001b[0;34m=\u001b[0m\u001b[0;36m2\u001b[0m\u001b[0;34m)\u001b[0m\u001b[0;34m\u001b[0m\u001b[0;34m\u001b[0m\u001b[0m\n\u001b[0;32m---> 28\u001b[0;31m \u001b[0mgrid_search\u001b[0m\u001b[0;34m.\u001b[0m\u001b[0mfit\u001b[0m\u001b[0;34m(\u001b[0m\u001b[0mX_train\u001b[0m\u001b[0;34m,\u001b[0m \u001b[0my_train\u001b[0m\u001b[0;34m)\u001b[0m\u001b[0;34m\u001b[0m\u001b[0;34m\u001b[0m\u001b[0m\n\u001b[0m\u001b[1;32m     29\u001b[0m \u001b[0;34m\u001b[0m\u001b[0m\n\u001b[1;32m     30\u001b[0m \u001b[0;31m# Get the best model\u001b[0m\u001b[0;34m\u001b[0m\u001b[0;34m\u001b[0m\u001b[0m\n",
            "\u001b[0;32m/usr/local/lib/python3.11/dist-packages/sklearn/base.py\u001b[0m in \u001b[0;36mwrapper\u001b[0;34m(estimator, *args, **kwargs)\u001b[0m\n\u001b[1;32m   1387\u001b[0m                 )\n\u001b[1;32m   1388\u001b[0m             ):\n\u001b[0;32m-> 1389\u001b[0;31m                 \u001b[0;32mreturn\u001b[0m \u001b[0mfit_method\u001b[0m\u001b[0;34m(\u001b[0m\u001b[0mestimator\u001b[0m\u001b[0;34m,\u001b[0m \u001b[0;34m*\u001b[0m\u001b[0margs\u001b[0m\u001b[0;34m,\u001b[0m \u001b[0;34m**\u001b[0m\u001b[0mkwargs\u001b[0m\u001b[0;34m)\u001b[0m\u001b[0;34m\u001b[0m\u001b[0;34m\u001b[0m\u001b[0m\n\u001b[0m\u001b[1;32m   1390\u001b[0m \u001b[0;34m\u001b[0m\u001b[0m\n\u001b[1;32m   1391\u001b[0m         \u001b[0;32mreturn\u001b[0m \u001b[0mwrapper\u001b[0m\u001b[0;34m\u001b[0m\u001b[0;34m\u001b[0m\u001b[0m\n",
            "\u001b[0;32m/usr/local/lib/python3.11/dist-packages/sklearn/model_selection/_search.py\u001b[0m in \u001b[0;36mfit\u001b[0;34m(self, X, y, **params)\u001b[0m\n\u001b[1;32m    931\u001b[0m         \u001b[0mrouted_params\u001b[0m \u001b[0;34m=\u001b[0m \u001b[0mself\u001b[0m\u001b[0;34m.\u001b[0m\u001b[0m_get_routed_params_for_fit\u001b[0m\u001b[0;34m(\u001b[0m\u001b[0mparams\u001b[0m\u001b[0;34m)\u001b[0m\u001b[0;34m\u001b[0m\u001b[0;34m\u001b[0m\u001b[0m\n\u001b[1;32m    932\u001b[0m \u001b[0;34m\u001b[0m\u001b[0m\n\u001b[0;32m--> 933\u001b[0;31m         \u001b[0mcv_orig\u001b[0m \u001b[0;34m=\u001b[0m \u001b[0mcheck_cv\u001b[0m\u001b[0;34m(\u001b[0m\u001b[0mself\u001b[0m\u001b[0;34m.\u001b[0m\u001b[0mcv\u001b[0m\u001b[0;34m,\u001b[0m \u001b[0my\u001b[0m\u001b[0;34m,\u001b[0m \u001b[0mclassifier\u001b[0m\u001b[0;34m=\u001b[0m\u001b[0mis_classifier\u001b[0m\u001b[0;34m(\u001b[0m\u001b[0mestimator\u001b[0m\u001b[0;34m)\u001b[0m\u001b[0;34m)\u001b[0m\u001b[0;34m\u001b[0m\u001b[0;34m\u001b[0m\u001b[0m\n\u001b[0m\u001b[1;32m    934\u001b[0m         \u001b[0mn_splits\u001b[0m \u001b[0;34m=\u001b[0m \u001b[0mcv_orig\u001b[0m\u001b[0;34m.\u001b[0m\u001b[0mget_n_splits\u001b[0m\u001b[0;34m(\u001b[0m\u001b[0mX\u001b[0m\u001b[0;34m,\u001b[0m \u001b[0my\u001b[0m\u001b[0;34m,\u001b[0m \u001b[0;34m**\u001b[0m\u001b[0mrouted_params\u001b[0m\u001b[0;34m.\u001b[0m\u001b[0msplitter\u001b[0m\u001b[0;34m.\u001b[0m\u001b[0msplit\u001b[0m\u001b[0;34m)\u001b[0m\u001b[0;34m\u001b[0m\u001b[0;34m\u001b[0m\u001b[0m\n\u001b[1;32m    935\u001b[0m \u001b[0;34m\u001b[0m\u001b[0m\n",
            "\u001b[0;32m/usr/local/lib/python3.11/dist-packages/sklearn/base.py\u001b[0m in \u001b[0;36mis_classifier\u001b[0;34m(estimator)\u001b[0m\n\u001b[1;32m   1235\u001b[0m         \u001b[0;32mreturn\u001b[0m \u001b[0mgetattr\u001b[0m\u001b[0;34m(\u001b[0m\u001b[0mestimator\u001b[0m\u001b[0;34m,\u001b[0m \u001b[0;34m\"_estimator_type\"\u001b[0m\u001b[0;34m,\u001b[0m \u001b[0;32mNone\u001b[0m\u001b[0;34m)\u001b[0m \u001b[0;34m==\u001b[0m \u001b[0;34m\"classifier\"\u001b[0m\u001b[0;34m\u001b[0m\u001b[0;34m\u001b[0m\u001b[0m\n\u001b[1;32m   1236\u001b[0m \u001b[0;34m\u001b[0m\u001b[0m\n\u001b[0;32m-> 1237\u001b[0;31m     \u001b[0;32mreturn\u001b[0m \u001b[0mget_tags\u001b[0m\u001b[0;34m(\u001b[0m\u001b[0mestimator\u001b[0m\u001b[0;34m)\u001b[0m\u001b[0;34m.\u001b[0m\u001b[0mestimator_type\u001b[0m \u001b[0;34m==\u001b[0m \u001b[0;34m\"classifier\"\u001b[0m\u001b[0;34m\u001b[0m\u001b[0;34m\u001b[0m\u001b[0m\n\u001b[0m\u001b[1;32m   1238\u001b[0m \u001b[0;34m\u001b[0m\u001b[0m\n\u001b[1;32m   1239\u001b[0m \u001b[0;34m\u001b[0m\u001b[0m\n",
            "\u001b[0;32m/usr/local/lib/python3.11/dist-packages/sklearn/utils/_tags.py\u001b[0m in \u001b[0;36mget_tags\u001b[0;34m(estimator)\u001b[0m\n\u001b[1;32m    428\u001b[0m         \u001b[0;32mfor\u001b[0m \u001b[0mklass\u001b[0m \u001b[0;32min\u001b[0m \u001b[0mreversed\u001b[0m\u001b[0;34m(\u001b[0m\u001b[0mtype\u001b[0m\u001b[0;34m(\u001b[0m\u001b[0mestimator\u001b[0m\u001b[0;34m)\u001b[0m\u001b[0;34m.\u001b[0m\u001b[0mmro\u001b[0m\u001b[0;34m(\u001b[0m\u001b[0;34m)\u001b[0m\u001b[0;34m)\u001b[0m\u001b[0;34m:\u001b[0m\u001b[0;34m\u001b[0m\u001b[0;34m\u001b[0m\u001b[0m\n\u001b[1;32m    429\u001b[0m             \u001b[0;32mif\u001b[0m \u001b[0;34m\"__sklearn_tags__\"\u001b[0m \u001b[0;32min\u001b[0m \u001b[0mvars\u001b[0m\u001b[0;34m(\u001b[0m\u001b[0mklass\u001b[0m\u001b[0;34m)\u001b[0m\u001b[0;34m:\u001b[0m\u001b[0;34m\u001b[0m\u001b[0;34m\u001b[0m\u001b[0m\n\u001b[0;32m--> 430\u001b[0;31m                 \u001b[0msklearn_tags_provider\u001b[0m\u001b[0;34m[\u001b[0m\u001b[0mklass\u001b[0m\u001b[0;34m]\u001b[0m \u001b[0;34m=\u001b[0m \u001b[0mklass\u001b[0m\u001b[0;34m.\u001b[0m\u001b[0m__sklearn_tags__\u001b[0m\u001b[0;34m(\u001b[0m\u001b[0mestimator\u001b[0m\u001b[0;34m)\u001b[0m  \u001b[0;31m# type: ignore[attr-defined]\u001b[0m\u001b[0;34m\u001b[0m\u001b[0;34m\u001b[0m\u001b[0m\n\u001b[0m\u001b[1;32m    431\u001b[0m                 \u001b[0mclass_order\u001b[0m\u001b[0;34m.\u001b[0m\u001b[0mappend\u001b[0m\u001b[0;34m(\u001b[0m\u001b[0mklass\u001b[0m\u001b[0;34m)\u001b[0m\u001b[0;34m\u001b[0m\u001b[0;34m\u001b[0m\u001b[0m\n\u001b[1;32m    432\u001b[0m             \u001b[0;32melif\u001b[0m \u001b[0;34m\"_more_tags\"\u001b[0m \u001b[0;32min\u001b[0m \u001b[0mvars\u001b[0m\u001b[0;34m(\u001b[0m\u001b[0mklass\u001b[0m\u001b[0;34m)\u001b[0m\u001b[0;34m:\u001b[0m\u001b[0;34m\u001b[0m\u001b[0;34m\u001b[0m\u001b[0m\n",
            "\u001b[0;32m/usr/local/lib/python3.11/dist-packages/sklearn/base.py\u001b[0m in \u001b[0;36m__sklearn_tags__\u001b[0;34m(self)\u001b[0m\n\u001b[1;32m    611\u001b[0m \u001b[0;34m\u001b[0m\u001b[0m\n\u001b[1;32m    612\u001b[0m     \u001b[0;32mdef\u001b[0m \u001b[0m__sklearn_tags__\u001b[0m\u001b[0;34m(\u001b[0m\u001b[0mself\u001b[0m\u001b[0;34m)\u001b[0m\u001b[0;34m:\u001b[0m\u001b[0;34m\u001b[0m\u001b[0;34m\u001b[0m\u001b[0m\n\u001b[0;32m--> 613\u001b[0;31m         \u001b[0mtags\u001b[0m \u001b[0;34m=\u001b[0m \u001b[0msuper\u001b[0m\u001b[0;34m(\u001b[0m\u001b[0;34m)\u001b[0m\u001b[0;34m.\u001b[0m\u001b[0m__sklearn_tags__\u001b[0m\u001b[0;34m(\u001b[0m\u001b[0;34m)\u001b[0m\u001b[0;34m\u001b[0m\u001b[0;34m\u001b[0m\u001b[0m\n\u001b[0m\u001b[1;32m    614\u001b[0m         \u001b[0mtags\u001b[0m\u001b[0;34m.\u001b[0m\u001b[0mestimator_type\u001b[0m \u001b[0;34m=\u001b[0m \u001b[0;34m\"regressor\"\u001b[0m\u001b[0;34m\u001b[0m\u001b[0;34m\u001b[0m\u001b[0m\n\u001b[1;32m    615\u001b[0m         \u001b[0mtags\u001b[0m\u001b[0;34m.\u001b[0m\u001b[0mregressor_tags\u001b[0m \u001b[0;34m=\u001b[0m \u001b[0mRegressorTags\u001b[0m\u001b[0;34m(\u001b[0m\u001b[0;34m)\u001b[0m\u001b[0;34m\u001b[0m\u001b[0;34m\u001b[0m\u001b[0m\n",
            "\u001b[0;31mAttributeError\u001b[0m: 'super' object has no attribute '__sklearn_tags__'"
          ]
        }
      ]
    },
    {
      "cell_type": "code",
      "source": [
        "\n",
        "from catboost import CatBoostRegressor\n",
        "\n",
        "# Train a CatBoost model\n",
        "cat_model = CatBoostRegressor(iterations=1500, learning_rate=0.05, depth=6, loss_function='MAE', verbose=100)\n",
        "cat_model.fit(X_train, y_train)\n",
        "\n",
        "# Predict using CatBoost\n",
        "actual_neet_data[\"predicted_neet_rank\"] = actual_neet_data[\"actual_score\"].apply(lambda x: int(cat_model.predict(np.array([[x]]))[0]))\n",
        "\n",
        "# Evaluate performance\n",
        "mae_cat = mean_absolute_error(actual_neet_data[\"actual_rank\"], actual_neet_data[\"predicted_neet_rank\"])\n",
        "mse_cat = mean_squared_error(actual_neet_data[\"actual_rank\"], actual_neet_data[\"predicted_neet_rank\"])\n",
        "\n",
        "print(f\"🔥 CatBoost Model 🔥\")\n",
        "print(f\"✅ Mean Absolute Error (MAE): {mae_cat}\")\n",
        "print(f\"✅ Mean Squared Error (MSE): {mse_cat}\")\n"
      ],
      "metadata": {
        "colab": {
          "base_uri": "https://localhost:8080/"
        },
        "id": "pee-qd1NTyI3",
        "outputId": "4893fcb6-e3b8-45f3-8ef2-e8261ed7e62a"
      },
      "execution_count": null,
      "outputs": [
        {
          "output_type": "stream",
          "name": "stdout",
          "text": [
            "0:\tlearn: 32440.6249735\ttotal: 220us\tremaining: 330ms\n",
            "100:\tlearn: 662.5854895\ttotal: 56.6ms\tremaining: 784ms\n",
            "200:\tlearn: 321.9262733\ttotal: 99.2ms\tremaining: 641ms\n",
            "300:\tlearn: 301.0417364\ttotal: 135ms\tremaining: 538ms\n",
            "400:\tlearn: 293.5509722\ttotal: 160ms\tremaining: 440ms\n",
            "500:\tlearn: 218.4100761\ttotal: 189ms\tremaining: 376ms\n",
            "600:\tlearn: 110.8315989\ttotal: 223ms\tremaining: 333ms\n",
            "700:\tlearn: 73.9499624\ttotal: 247ms\tremaining: 282ms\n",
            "800:\tlearn: 73.7316036\ttotal: 282ms\tremaining: 246ms\n",
            "900:\tlearn: 60.1539231\ttotal: 334ms\tremaining: 222ms\n",
            "1000:\tlearn: 22.6509961\ttotal: 399ms\tremaining: 199ms\n",
            "1100:\tlearn: 22.4879495\ttotal: 533ms\tremaining: 193ms\n",
            "1200:\tlearn: 22.4853161\ttotal: 609ms\tremaining: 152ms\n",
            "1300:\tlearn: 22.4848916\ttotal: 653ms\tremaining: 99.9ms\n",
            "1400:\tlearn: 22.4848539\ttotal: 691ms\tremaining: 48.9ms\n",
            "1499:\tlearn: 22.4848387\ttotal: 734ms\tremaining: 0us\n",
            "🔥 CatBoost Model 🔥\n",
            "✅ Mean Absolute Error (MAE): 1099.8\n",
            "✅ Mean Squared Error (MSE): 5047800.6\n"
          ]
        }
      ]
    },
    {
      "cell_type": "code",
      "source": [
        "cat_model.save_model(\"catboost_neet_model.cbm\")"
      ],
      "metadata": {
        "id": "0fya7wK3Xyoz"
      },
      "execution_count": null,
      "outputs": []
    },
    {
      "cell_type": "code",
      "source": [
        "!pip install streamlit pandas numpy seaborn matplotlib catboost pyngrok"
      ],
      "metadata": {
        "colab": {
          "base_uri": "https://localhost:8080/"
        },
        "id": "ZeqduBeVUKLT",
        "outputId": "8d5aff43-6fe3-4386-cd60-f87b35dd349b"
      },
      "execution_count": null,
      "outputs": [
        {
          "output_type": "stream",
          "name": "stdout",
          "text": [
            "Collecting streamlit\n",
            "  Downloading streamlit-1.41.1-py2.py3-none-any.whl.metadata (8.5 kB)\n",
            "Requirement already satisfied: pandas in /usr/local/lib/python3.11/dist-packages (2.2.2)\n",
            "Requirement already satisfied: numpy in /usr/local/lib/python3.11/dist-packages (1.26.4)\n",
            "Requirement already satisfied: seaborn in /usr/local/lib/python3.11/dist-packages (0.13.2)\n",
            "Requirement already satisfied: matplotlib in /usr/local/lib/python3.11/dist-packages (3.10.0)\n",
            "Requirement already satisfied: catboost in /usr/local/lib/python3.11/dist-packages (1.2.7)\n",
            "Collecting pyngrok\n",
            "  Downloading pyngrok-7.2.3-py3-none-any.whl.metadata (8.7 kB)\n",
            "Requirement already satisfied: altair<6,>=4.0 in /usr/local/lib/python3.11/dist-packages (from streamlit) (5.5.0)\n",
            "Requirement already satisfied: blinker<2,>=1.0.0 in /usr/local/lib/python3.11/dist-packages (from streamlit) (1.9.0)\n",
            "Requirement already satisfied: cachetools<6,>=4.0 in /usr/local/lib/python3.11/dist-packages (from streamlit) (5.5.1)\n",
            "Requirement already satisfied: click<9,>=7.0 in /usr/local/lib/python3.11/dist-packages (from streamlit) (8.1.8)\n",
            "Requirement already satisfied: packaging<25,>=20 in /usr/local/lib/python3.11/dist-packages (from streamlit) (24.2)\n",
            "Requirement already satisfied: pillow<12,>=7.1.0 in /usr/local/lib/python3.11/dist-packages (from streamlit) (11.1.0)\n",
            "Requirement already satisfied: protobuf<6,>=3.20 in /usr/local/lib/python3.11/dist-packages (from streamlit) (4.25.6)\n",
            "Requirement already satisfied: pyarrow>=7.0 in /usr/local/lib/python3.11/dist-packages (from streamlit) (17.0.0)\n",
            "Requirement already satisfied: requests<3,>=2.27 in /usr/local/lib/python3.11/dist-packages (from streamlit) (2.32.3)\n",
            "Requirement already satisfied: rich<14,>=10.14.0 in /usr/local/lib/python3.11/dist-packages (from streamlit) (13.9.4)\n",
            "Requirement already satisfied: tenacity<10,>=8.1.0 in /usr/local/lib/python3.11/dist-packages (from streamlit) (9.0.0)\n",
            "Requirement already satisfied: toml<2,>=0.10.1 in /usr/local/lib/python3.11/dist-packages (from streamlit) (0.10.2)\n",
            "Requirement already satisfied: typing-extensions<5,>=4.3.0 in /usr/local/lib/python3.11/dist-packages (from streamlit) (4.12.2)\n",
            "Collecting watchdog<7,>=2.1.5 (from streamlit)\n",
            "  Downloading watchdog-6.0.0-py3-none-manylinux2014_x86_64.whl.metadata (44 kB)\n",
            "\u001b[2K     \u001b[90m━━━━━━━━━━━━━━━━━━━━━━━━━━━━━━━━━━━━━━━━\u001b[0m \u001b[32m44.3/44.3 kB\u001b[0m \u001b[31m2.0 MB/s\u001b[0m eta \u001b[36m0:00:00\u001b[0m\n",
            "\u001b[?25hRequirement already satisfied: gitpython!=3.1.19,<4,>=3.0.7 in /usr/local/lib/python3.11/dist-packages (from streamlit) (3.1.44)\n",
            "Collecting pydeck<1,>=0.8.0b4 (from streamlit)\n",
            "  Downloading pydeck-0.9.1-py2.py3-none-any.whl.metadata (4.1 kB)\n",
            "Requirement already satisfied: tornado<7,>=6.0.3 in /usr/local/lib/python3.11/dist-packages (from streamlit) (6.4.2)\n",
            "Requirement already satisfied: python-dateutil>=2.8.2 in /usr/local/lib/python3.11/dist-packages (from pandas) (2.8.2)\n",
            "Requirement already satisfied: pytz>=2020.1 in /usr/local/lib/python3.11/dist-packages (from pandas) (2024.2)\n",
            "Requirement already satisfied: tzdata>=2022.7 in /usr/local/lib/python3.11/dist-packages (from pandas) (2025.1)\n",
            "Requirement already satisfied: contourpy>=1.0.1 in /usr/local/lib/python3.11/dist-packages (from matplotlib) (1.3.1)\n",
            "Requirement already satisfied: cycler>=0.10 in /usr/local/lib/python3.11/dist-packages (from matplotlib) (0.12.1)\n",
            "Requirement already satisfied: fonttools>=4.22.0 in /usr/local/lib/python3.11/dist-packages (from matplotlib) (4.55.7)\n",
            "Requirement already satisfied: kiwisolver>=1.3.1 in /usr/local/lib/python3.11/dist-packages (from matplotlib) (1.4.8)\n",
            "Requirement already satisfied: pyparsing>=2.3.1 in /usr/local/lib/python3.11/dist-packages (from matplotlib) (3.2.1)\n",
            "Requirement already satisfied: graphviz in /usr/local/lib/python3.11/dist-packages (from catboost) (0.20.3)\n",
            "Requirement already satisfied: scipy in /usr/local/lib/python3.11/dist-packages (from catboost) (1.13.1)\n",
            "Requirement already satisfied: plotly in /usr/local/lib/python3.11/dist-packages (from catboost) (5.24.1)\n",
            "Requirement already satisfied: six in /usr/local/lib/python3.11/dist-packages (from catboost) (1.17.0)\n",
            "Requirement already satisfied: PyYAML>=5.1 in /usr/local/lib/python3.11/dist-packages (from pyngrok) (6.0.2)\n",
            "Requirement already satisfied: jinja2 in /usr/local/lib/python3.11/dist-packages (from altair<6,>=4.0->streamlit) (3.1.5)\n",
            "Requirement already satisfied: jsonschema>=3.0 in /usr/local/lib/python3.11/dist-packages (from altair<6,>=4.0->streamlit) (4.23.0)\n",
            "Requirement already satisfied: narwhals>=1.14.2 in /usr/local/lib/python3.11/dist-packages (from altair<6,>=4.0->streamlit) (1.24.1)\n",
            "Requirement already satisfied: gitdb<5,>=4.0.1 in /usr/local/lib/python3.11/dist-packages (from gitpython!=3.1.19,<4,>=3.0.7->streamlit) (4.0.12)\n",
            "Requirement already satisfied: charset-normalizer<4,>=2 in /usr/local/lib/python3.11/dist-packages (from requests<3,>=2.27->streamlit) (3.4.1)\n",
            "Requirement already satisfied: idna<4,>=2.5 in /usr/local/lib/python3.11/dist-packages (from requests<3,>=2.27->streamlit) (3.10)\n",
            "Requirement already satisfied: urllib3<3,>=1.21.1 in /usr/local/lib/python3.11/dist-packages (from requests<3,>=2.27->streamlit) (2.3.0)\n",
            "Requirement already satisfied: certifi>=2017.4.17 in /usr/local/lib/python3.11/dist-packages (from requests<3,>=2.27->streamlit) (2024.12.14)\n",
            "Requirement already satisfied: markdown-it-py>=2.2.0 in /usr/local/lib/python3.11/dist-packages (from rich<14,>=10.14.0->streamlit) (3.0.0)\n",
            "Requirement already satisfied: pygments<3.0.0,>=2.13.0 in /usr/local/lib/python3.11/dist-packages (from rich<14,>=10.14.0->streamlit) (2.18.0)\n",
            "Requirement already satisfied: smmap<6,>=3.0.1 in /usr/local/lib/python3.11/dist-packages (from gitdb<5,>=4.0.1->gitpython!=3.1.19,<4,>=3.0.7->streamlit) (5.0.2)\n",
            "Requirement already satisfied: MarkupSafe>=2.0 in /usr/local/lib/python3.11/dist-packages (from jinja2->altair<6,>=4.0->streamlit) (3.0.2)\n",
            "Requirement already satisfied: attrs>=22.2.0 in /usr/local/lib/python3.11/dist-packages (from jsonschema>=3.0->altair<6,>=4.0->streamlit) (25.1.0)\n",
            "Requirement already satisfied: jsonschema-specifications>=2023.03.6 in /usr/local/lib/python3.11/dist-packages (from jsonschema>=3.0->altair<6,>=4.0->streamlit) (2024.10.1)\n",
            "Requirement already satisfied: referencing>=0.28.4 in /usr/local/lib/python3.11/dist-packages (from jsonschema>=3.0->altair<6,>=4.0->streamlit) (0.36.2)\n",
            "Requirement already satisfied: rpds-py>=0.7.1 in /usr/local/lib/python3.11/dist-packages (from jsonschema>=3.0->altair<6,>=4.0->streamlit) (0.22.3)\n",
            "Requirement already satisfied: mdurl~=0.1 in /usr/local/lib/python3.11/dist-packages (from markdown-it-py>=2.2.0->rich<14,>=10.14.0->streamlit) (0.1.2)\n",
            "Downloading streamlit-1.41.1-py2.py3-none-any.whl (9.1 MB)\n",
            "\u001b[2K   \u001b[90m━━━━━━━━━━━━━━━━━━━━━━━━━━━━━━━━━━━━━━━━\u001b[0m \u001b[32m9.1/9.1 MB\u001b[0m \u001b[31m23.4 MB/s\u001b[0m eta \u001b[36m0:00:00\u001b[0m\n",
            "\u001b[?25hDownloading pyngrok-7.2.3-py3-none-any.whl (23 kB)\n",
            "Downloading pydeck-0.9.1-py2.py3-none-any.whl (6.9 MB)\n",
            "\u001b[2K   \u001b[90m━━━━━━━━━━━━━━━━━━━━━━━━━━━━━━━━━━━━━━━━\u001b[0m \u001b[32m6.9/6.9 MB\u001b[0m \u001b[31m36.3 MB/s\u001b[0m eta \u001b[36m0:00:00\u001b[0m\n",
            "\u001b[?25hDownloading watchdog-6.0.0-py3-none-manylinux2014_x86_64.whl (79 kB)\n",
            "\u001b[2K   \u001b[90m━━━━━━━━━━━━━━━━━━━━━━━━━━━━━━━━━━━━━━━━\u001b[0m \u001b[32m79.1/79.1 kB\u001b[0m \u001b[31m4.0 MB/s\u001b[0m eta \u001b[36m0:00:00\u001b[0m\n",
            "\u001b[?25hInstalling collected packages: watchdog, pyngrok, pydeck, streamlit\n",
            "Successfully installed pydeck-0.9.1 pyngrok-7.2.3 streamlit-1.41.1 watchdog-6.0.0\n"
          ]
        }
      ]
    },
    {
      "cell_type": "code",
      "source": [
        "%%writefile app.py\n",
        "import streamlit as st\n",
        "import pandas as pd\n",
        "import numpy as np\n",
        "import matplotlib.pyplot as plt\n",
        "import seaborn as sns\n",
        "from catboost import CatBoostRegressor\n",
        "\n",
        "# Load trained CatBoost Model\n",
        "@st.cache_resource\n",
        "def load_model():\n",
        "    model = CatBoostRegressor()\n",
        "    model.load_model(\"catboost_neet_model.cbm\")  # Load saved model\n",
        "    return model\n",
        "\n",
        "model = load_model()\n",
        "\n",
        "# Web App Title\n",
        "st.title(\"🎯 NEET Rank Predictor & Student Performance Analyzer\")\n",
        "\n",
        "# Upload CSV File\n",
        "uploaded_file = st.file_uploader(\"📂 Upload your quiz performance data (CSV)\", type=[\"csv\"])\n",
        "if uploaded_file:\n",
        "    df = pd.read_csv(uploaded_file)\n",
        "    st.write(\"📊 Sample Data Preview:\")\n",
        "    st.dataframe(df.head())\n",
        "\n",
        "    # Accuracy Trends Over Time\n",
        "    st.subheader(\"📈 Accuracy Trends Over Time\")\n",
        "    plt.figure(figsize=(8, 5))\n",
        "    sns.lineplot(x=df.index, y=df[\"accuracy\"], marker=\"o\")\n",
        "    plt.xlabel(\"Quiz Number\")\n",
        "    plt.ylabel(\"Accuracy (%)\")\n",
        "    plt.title(\"Student Accuracy Improvement\")\n",
        "    st.pyplot(plt)\n",
        "\n",
        "    # ❌ Mistakes Per Subject\n",
        "    st.subheader(\"❌ Mistakes per Subject\")\n",
        "    plt.figure(figsize=(7, 5))\n",
        "    sns.barplot(x=df[\"subject\"], y=df[\"mistakes\"], palette=\"coolwarm\")\n",
        "    plt.xlabel(\"Subject\")\n",
        "    plt.ylabel(\"Mistakes Count\")\n",
        "    plt.title(\"Mistake Distribution Across Subjects\")\n",
        "    st.pyplot(plt)\n",
        "\n",
        "    # 🎯 NEET Rank Prediction\n",
        "    st.subheader(\"🎯 NEET Rank Prediction\")\n",
        "    if \"score\" in df.columns:\n",
        "        df[\"predicted_neet_rank\"] = df[\"score\"].apply(lambda x: int(model.predict(np.array([[x]]))[0]))\n",
        "        st.dataframe(df[[\"score\", \"predicted_neet_rank\"]])\n",
        "\n",
        "        st.success(\"✅ NEET Rank Prediction Completed!\")\n",
        "    else:\n",
        "        st.error(\"❌ The uploaded file must contain a 'score' column to predict NEET Rank.\")\n"
      ],
      "metadata": {
        "colab": {
          "base_uri": "https://localhost:8080/"
        },
        "id": "2Bqqg6f1XaPG",
        "outputId": "59cafd3c-9266-4853-d60f-e68f11e16aae"
      },
      "execution_count": null,
      "outputs": [
        {
          "output_type": "stream",
          "name": "stdout",
          "text": [
            "Writing app.py\n"
          ]
        }
      ]
    },
    {
      "cell_type": "code",
      "source": [
        "from pyngrok import ngrok\n",
        "\n",
        "# Start Streamlit server in the background\n",
        "!streamlit run app.py &\n",
        "\n",
        "# Expose the local server to the internet\n",
        "public_url = ngrok.connect(port='8501')\n",
        "print(f\"🌍 Public URL: {public_url}\")"
      ],
      "metadata": {
        "colab": {
          "base_uri": "https://localhost:8080/",
          "height": 637
        },
        "id": "mqV2PD0bX6Wm",
        "outputId": "5e5f05f9-ba18-49b1-8f47-f1820365a30c"
      },
      "execution_count": null,
      "outputs": [
        {
          "output_type": "stream",
          "name": "stdout",
          "text": [
            "\n",
            "Collecting usage statistics. To deactivate, set browser.gatherUsageStats to false.\n",
            "\u001b[0m\n",
            "\u001b[0m\n",
            "\u001b[34m\u001b[1m  You can now view your Streamlit app in your browser.\u001b[0m\n",
            "\u001b[0m\n",
            "\u001b[34m  Local URL: \u001b[0m\u001b[1mhttp://localhost:8501\u001b[0m\n",
            "\u001b[34m  Network URL: \u001b[0m\u001b[1mhttp://172.28.0.12:8501\u001b[0m\n",
            "\u001b[34m  External URL: \u001b[0m\u001b[1mhttp://34.66.70.94:8501\u001b[0m\n",
            "\u001b[0m\n",
            "\u001b[34m  Stopping...\u001b[0m\n"
          ]
        },
        {
          "output_type": "stream",
          "name": "stderr",
          "text": [
            "ERROR:pyngrok.process.ngrok:t=2025-01-30T22:42:54+0000 lvl=eror msg=\"failed to reconnect session\" obj=tunnels.session err=\"authentication failed: Usage of ngrok requires a verified account and authtoken.\\n\\nSign up for an account: https://dashboard.ngrok.com/signup\\nInstall your authtoken: https://dashboard.ngrok.com/get-started/your-authtoken\\r\\n\\r\\nERR_NGROK_4018\\r\\n\"\n",
            "ERROR:pyngrok.process.ngrok:t=2025-01-30T22:42:54+0000 lvl=eror msg=\"session closing\" obj=tunnels.session err=\"authentication failed: Usage of ngrok requires a verified account and authtoken.\\n\\nSign up for an account: https://dashboard.ngrok.com/signup\\nInstall your authtoken: https://dashboard.ngrok.com/get-started/your-authtoken\\r\\n\\r\\nERR_NGROK_4018\\r\\n\"\n",
            "ERROR:pyngrok.process.ngrok:t=2025-01-30T22:42:54+0000 lvl=eror msg=\"terminating with error\" obj=app err=\"authentication failed: Usage of ngrok requires a verified account and authtoken.\\n\\nSign up for an account: https://dashboard.ngrok.com/signup\\nInstall your authtoken: https://dashboard.ngrok.com/get-started/your-authtoken\\r\\n\\r\\nERR_NGROK_4018\\r\\n\"\n",
            "CRITICAL:pyngrok.process.ngrok:t=2025-01-30T22:42:54+0000 lvl=crit msg=\"command failed\" err=\"authentication failed: Usage of ngrok requires a verified account and authtoken.\\n\\nSign up for an account: https://dashboard.ngrok.com/signup\\nInstall your authtoken: https://dashboard.ngrok.com/get-started/your-authtoken\\r\\n\\r\\nERR_NGROK_4018\\r\\n\"\n"
          ]
        },
        {
          "output_type": "error",
          "ename": "PyngrokNgrokError",
          "evalue": "The ngrok process errored on start: authentication failed: Usage of ngrok requires a verified account and authtoken.\\n\\nSign up for an account: https://dashboard.ngrok.com/signup\\nInstall your authtoken: https://dashboard.ngrok.com/get-started/your-authtoken\\r\\n\\r\\nERR_NGROK_4018\\r\\n.",
          "traceback": [
            "\u001b[0;31m---------------------------------------------------------------------------\u001b[0m",
            "\u001b[0;31mPyngrokNgrokError\u001b[0m                         Traceback (most recent call last)",
            "\u001b[0;32m<ipython-input-32-c82df948f8ab>\u001b[0m in \u001b[0;36m<cell line: 0>\u001b[0;34m()\u001b[0m\n\u001b[1;32m      5\u001b[0m \u001b[0;34m\u001b[0m\u001b[0m\n\u001b[1;32m      6\u001b[0m \u001b[0;31m# Expose the local server to the internet\u001b[0m\u001b[0;34m\u001b[0m\u001b[0;34m\u001b[0m\u001b[0m\n\u001b[0;32m----> 7\u001b[0;31m \u001b[0mpublic_url\u001b[0m \u001b[0;34m=\u001b[0m \u001b[0mngrok\u001b[0m\u001b[0;34m.\u001b[0m\u001b[0mconnect\u001b[0m\u001b[0;34m(\u001b[0m\u001b[0mport\u001b[0m\u001b[0;34m=\u001b[0m\u001b[0;34m'8501'\u001b[0m\u001b[0;34m)\u001b[0m\u001b[0;34m\u001b[0m\u001b[0;34m\u001b[0m\u001b[0m\n\u001b[0m\u001b[1;32m      8\u001b[0m \u001b[0mprint\u001b[0m\u001b[0;34m(\u001b[0m\u001b[0;34mf\"🌍 Public URL: {public_url}\"\u001b[0m\u001b[0;34m)\u001b[0m\u001b[0;34m\u001b[0m\u001b[0;34m\u001b[0m\u001b[0m\n",
            "\u001b[0;32m/usr/local/lib/python3.11/dist-packages/pyngrok/ngrok.py\u001b[0m in \u001b[0;36mconnect\u001b[0;34m(addr, proto, name, pyngrok_config, **options)\u001b[0m\n\u001b[1;32m    349\u001b[0m     \u001b[0mlogger\u001b[0m\u001b[0;34m.\u001b[0m\u001b[0minfo\u001b[0m\u001b[0;34m(\u001b[0m\u001b[0;34mf\"Opening tunnel named: {name}\"\u001b[0m\u001b[0;34m)\u001b[0m\u001b[0;34m\u001b[0m\u001b[0;34m\u001b[0m\u001b[0m\n\u001b[1;32m    350\u001b[0m \u001b[0;34m\u001b[0m\u001b[0m\n\u001b[0;32m--> 351\u001b[0;31m     \u001b[0mapi_url\u001b[0m \u001b[0;34m=\u001b[0m \u001b[0mget_ngrok_process\u001b[0m\u001b[0;34m(\u001b[0m\u001b[0mpyngrok_config\u001b[0m\u001b[0;34m)\u001b[0m\u001b[0;34m.\u001b[0m\u001b[0mapi_url\u001b[0m\u001b[0;34m\u001b[0m\u001b[0;34m\u001b[0m\u001b[0m\n\u001b[0m\u001b[1;32m    352\u001b[0m \u001b[0;34m\u001b[0m\u001b[0m\n\u001b[1;32m    353\u001b[0m     \u001b[0mlogger\u001b[0m\u001b[0;34m.\u001b[0m\u001b[0mdebug\u001b[0m\u001b[0;34m(\u001b[0m\u001b[0;34mf\"Creating tunnel with options: {options}\"\u001b[0m\u001b[0;34m)\u001b[0m\u001b[0;34m\u001b[0m\u001b[0;34m\u001b[0m\u001b[0m\n",
            "\u001b[0;32m/usr/local/lib/python3.11/dist-packages/pyngrok/ngrok.py\u001b[0m in \u001b[0;36mget_ngrok_process\u001b[0;34m(pyngrok_config)\u001b[0m\n\u001b[1;32m    174\u001b[0m     \u001b[0minstall_ngrok\u001b[0m\u001b[0;34m(\u001b[0m\u001b[0mpyngrok_config\u001b[0m\u001b[0;34m)\u001b[0m\u001b[0;34m\u001b[0m\u001b[0;34m\u001b[0m\u001b[0m\n\u001b[1;32m    175\u001b[0m \u001b[0;34m\u001b[0m\u001b[0m\n\u001b[0;32m--> 176\u001b[0;31m     \u001b[0;32mreturn\u001b[0m \u001b[0mprocess\u001b[0m\u001b[0;34m.\u001b[0m\u001b[0mget_process\u001b[0m\u001b[0;34m(\u001b[0m\u001b[0mpyngrok_config\u001b[0m\u001b[0;34m)\u001b[0m\u001b[0;34m\u001b[0m\u001b[0;34m\u001b[0m\u001b[0m\n\u001b[0m\u001b[1;32m    177\u001b[0m \u001b[0;34m\u001b[0m\u001b[0m\n\u001b[1;32m    178\u001b[0m \u001b[0;34m\u001b[0m\u001b[0m\n",
            "\u001b[0;32m/usr/local/lib/python3.11/dist-packages/pyngrok/process.py\u001b[0m in \u001b[0;36mget_process\u001b[0;34m(pyngrok_config)\u001b[0m\n\u001b[1;32m    263\u001b[0m         \u001b[0;32mreturn\u001b[0m \u001b[0m_current_processes\u001b[0m\u001b[0;34m[\u001b[0m\u001b[0mpyngrok_config\u001b[0m\u001b[0;34m.\u001b[0m\u001b[0mngrok_path\u001b[0m\u001b[0;34m]\u001b[0m\u001b[0;34m\u001b[0m\u001b[0;34m\u001b[0m\u001b[0m\n\u001b[1;32m    264\u001b[0m \u001b[0;34m\u001b[0m\u001b[0m\n\u001b[0;32m--> 265\u001b[0;31m     \u001b[0;32mreturn\u001b[0m \u001b[0m_start_process\u001b[0m\u001b[0;34m(\u001b[0m\u001b[0mpyngrok_config\u001b[0m\u001b[0;34m)\u001b[0m\u001b[0;34m\u001b[0m\u001b[0;34m\u001b[0m\u001b[0m\n\u001b[0m\u001b[1;32m    266\u001b[0m \u001b[0;34m\u001b[0m\u001b[0m\n\u001b[1;32m    267\u001b[0m \u001b[0;34m\u001b[0m\u001b[0m\n",
            "\u001b[0;32m/usr/local/lib/python3.11/dist-packages/pyngrok/process.py\u001b[0m in \u001b[0;36m_start_process\u001b[0;34m(pyngrok_config)\u001b[0m\n\u001b[1;32m    426\u001b[0m \u001b[0;34m\u001b[0m\u001b[0m\n\u001b[1;32m    427\u001b[0m         \u001b[0;32mif\u001b[0m \u001b[0mngrok_process\u001b[0m\u001b[0;34m.\u001b[0m\u001b[0mstartup_error\u001b[0m \u001b[0;32mis\u001b[0m \u001b[0;32mnot\u001b[0m \u001b[0;32mNone\u001b[0m\u001b[0;34m:\u001b[0m\u001b[0;34m\u001b[0m\u001b[0;34m\u001b[0m\u001b[0m\n\u001b[0;32m--> 428\u001b[0;31m             raise PyngrokNgrokError(f\"The ngrok process errored on start: {ngrok_process.startup_error}.\",\n\u001b[0m\u001b[1;32m    429\u001b[0m                                     \u001b[0mngrok_process\u001b[0m\u001b[0;34m.\u001b[0m\u001b[0mlogs\u001b[0m\u001b[0;34m,\u001b[0m\u001b[0;34m\u001b[0m\u001b[0;34m\u001b[0m\u001b[0m\n\u001b[1;32m    430\u001b[0m                                     ngrok_process.startup_error)\n",
            "\u001b[0;31mPyngrokNgrokError\u001b[0m: The ngrok process errored on start: authentication failed: Usage of ngrok requires a verified account and authtoken.\\n\\nSign up for an account: https://dashboard.ngrok.com/signup\\nInstall your authtoken: https://dashboard.ngrok.com/get-started/your-authtoken\\r\\n\\r\\nERR_NGROK_4018\\r\\n."
          ]
        }
      ]
    },
    {
      "cell_type": "code",
      "source": [
        "from pyngrok import ngrok\n",
        "\n",
        "# Kill any existing tunnels\n",
        "!pkill -9 streamlit\n",
        "!pkill -9 ngrok\n",
        "\n",
        "# Start Streamlit in the background\n",
        "!nohup streamlit run app.py &\n",
        "\n",
        "# Start Ngrok\n",
        "public_url = ngrok.connect(port=\"8501\")\n",
        "print(f\"🌍 Click this link to open your web app: {public_url}\")"
      ],
      "metadata": {
        "colab": {
          "base_uri": "https://localhost:8080/",
          "height": 428
        },
        "id": "lkgPkWuCX9Ju",
        "outputId": "2a9db33c-e794-45c8-f7b3-f6e38c3e7eca"
      },
      "execution_count": null,
      "outputs": [
        {
          "output_type": "stream",
          "name": "stdout",
          "text": [
            "nohup: appending output to 'nohup.out'\n"
          ]
        },
        {
          "output_type": "stream",
          "name": "stderr",
          "text": [
            "ERROR:pyngrok.process.ngrok:t=2025-01-30T22:43:00+0000 lvl=eror msg=\"failed to reconnect session\" obj=tunnels.session err=\"authentication failed: Usage of ngrok requires a verified account and authtoken.\\n\\nSign up for an account: https://dashboard.ngrok.com/signup\\nInstall your authtoken: https://dashboard.ngrok.com/get-started/your-authtoken\\r\\n\\r\\nERR_NGROK_4018\\r\\n\"\n",
            "ERROR:pyngrok.process.ngrok:t=2025-01-30T22:43:00+0000 lvl=eror msg=\"session closing\" obj=tunnels.session err=\"authentication failed: Usage of ngrok requires a verified account and authtoken.\\n\\nSign up for an account: https://dashboard.ngrok.com/signup\\nInstall your authtoken: https://dashboard.ngrok.com/get-started/your-authtoken\\r\\n\\r\\nERR_NGROK_4018\\r\\n\"\n"
          ]
        },
        {
          "output_type": "error",
          "ename": "PyngrokNgrokError",
          "evalue": "The ngrok process errored on start: authentication failed: Usage of ngrok requires a verified account and authtoken.\\n\\nSign up for an account: https://dashboard.ngrok.com/signup\\nInstall your authtoken: https://dashboard.ngrok.com/get-started/your-authtoken\\r\\n\\r\\nERR_NGROK_4018\\r\\n.",
          "traceback": [
            "\u001b[0;31m---------------------------------------------------------------------------\u001b[0m",
            "\u001b[0;31mPyngrokNgrokError\u001b[0m                         Traceback (most recent call last)",
            "\u001b[0;32m<ipython-input-33-6f763ab68fd4>\u001b[0m in \u001b[0;36m<cell line: 0>\u001b[0;34m()\u001b[0m\n\u001b[1;32m      9\u001b[0m \u001b[0;34m\u001b[0m\u001b[0m\n\u001b[1;32m     10\u001b[0m \u001b[0;31m# Start Ngrok\u001b[0m\u001b[0;34m\u001b[0m\u001b[0;34m\u001b[0m\u001b[0m\n\u001b[0;32m---> 11\u001b[0;31m \u001b[0mpublic_url\u001b[0m \u001b[0;34m=\u001b[0m \u001b[0mngrok\u001b[0m\u001b[0;34m.\u001b[0m\u001b[0mconnect\u001b[0m\u001b[0;34m(\u001b[0m\u001b[0mport\u001b[0m\u001b[0;34m=\u001b[0m\u001b[0;34m\"8501\"\u001b[0m\u001b[0;34m)\u001b[0m\u001b[0;34m\u001b[0m\u001b[0;34m\u001b[0m\u001b[0m\n\u001b[0m\u001b[1;32m     12\u001b[0m \u001b[0mprint\u001b[0m\u001b[0;34m(\u001b[0m\u001b[0;34mf\"🌍 Click this link to open your web app: {public_url}\"\u001b[0m\u001b[0;34m)\u001b[0m\u001b[0;34m\u001b[0m\u001b[0;34m\u001b[0m\u001b[0m\n",
            "\u001b[0;32m/usr/local/lib/python3.11/dist-packages/pyngrok/ngrok.py\u001b[0m in \u001b[0;36mconnect\u001b[0;34m(addr, proto, name, pyngrok_config, **options)\u001b[0m\n\u001b[1;32m    349\u001b[0m     \u001b[0mlogger\u001b[0m\u001b[0;34m.\u001b[0m\u001b[0minfo\u001b[0m\u001b[0;34m(\u001b[0m\u001b[0;34mf\"Opening tunnel named: {name}\"\u001b[0m\u001b[0;34m)\u001b[0m\u001b[0;34m\u001b[0m\u001b[0;34m\u001b[0m\u001b[0m\n\u001b[1;32m    350\u001b[0m \u001b[0;34m\u001b[0m\u001b[0m\n\u001b[0;32m--> 351\u001b[0;31m     \u001b[0mapi_url\u001b[0m \u001b[0;34m=\u001b[0m \u001b[0mget_ngrok_process\u001b[0m\u001b[0;34m(\u001b[0m\u001b[0mpyngrok_config\u001b[0m\u001b[0;34m)\u001b[0m\u001b[0;34m.\u001b[0m\u001b[0mapi_url\u001b[0m\u001b[0;34m\u001b[0m\u001b[0;34m\u001b[0m\u001b[0m\n\u001b[0m\u001b[1;32m    352\u001b[0m \u001b[0;34m\u001b[0m\u001b[0m\n\u001b[1;32m    353\u001b[0m     \u001b[0mlogger\u001b[0m\u001b[0;34m.\u001b[0m\u001b[0mdebug\u001b[0m\u001b[0;34m(\u001b[0m\u001b[0;34mf\"Creating tunnel with options: {options}\"\u001b[0m\u001b[0;34m)\u001b[0m\u001b[0;34m\u001b[0m\u001b[0;34m\u001b[0m\u001b[0m\n",
            "\u001b[0;32m/usr/local/lib/python3.11/dist-packages/pyngrok/ngrok.py\u001b[0m in \u001b[0;36mget_ngrok_process\u001b[0;34m(pyngrok_config)\u001b[0m\n\u001b[1;32m    174\u001b[0m     \u001b[0minstall_ngrok\u001b[0m\u001b[0;34m(\u001b[0m\u001b[0mpyngrok_config\u001b[0m\u001b[0;34m)\u001b[0m\u001b[0;34m\u001b[0m\u001b[0;34m\u001b[0m\u001b[0m\n\u001b[1;32m    175\u001b[0m \u001b[0;34m\u001b[0m\u001b[0m\n\u001b[0;32m--> 176\u001b[0;31m     \u001b[0;32mreturn\u001b[0m \u001b[0mprocess\u001b[0m\u001b[0;34m.\u001b[0m\u001b[0mget_process\u001b[0m\u001b[0;34m(\u001b[0m\u001b[0mpyngrok_config\u001b[0m\u001b[0;34m)\u001b[0m\u001b[0;34m\u001b[0m\u001b[0;34m\u001b[0m\u001b[0m\n\u001b[0m\u001b[1;32m    177\u001b[0m \u001b[0;34m\u001b[0m\u001b[0m\n\u001b[1;32m    178\u001b[0m \u001b[0;34m\u001b[0m\u001b[0m\n",
            "\u001b[0;32m/usr/local/lib/python3.11/dist-packages/pyngrok/process.py\u001b[0m in \u001b[0;36mget_process\u001b[0;34m(pyngrok_config)\u001b[0m\n\u001b[1;32m    263\u001b[0m         \u001b[0;32mreturn\u001b[0m \u001b[0m_current_processes\u001b[0m\u001b[0;34m[\u001b[0m\u001b[0mpyngrok_config\u001b[0m\u001b[0;34m.\u001b[0m\u001b[0mngrok_path\u001b[0m\u001b[0;34m]\u001b[0m\u001b[0;34m\u001b[0m\u001b[0;34m\u001b[0m\u001b[0m\n\u001b[1;32m    264\u001b[0m \u001b[0;34m\u001b[0m\u001b[0m\n\u001b[0;32m--> 265\u001b[0;31m     \u001b[0;32mreturn\u001b[0m \u001b[0m_start_process\u001b[0m\u001b[0;34m(\u001b[0m\u001b[0mpyngrok_config\u001b[0m\u001b[0;34m)\u001b[0m\u001b[0;34m\u001b[0m\u001b[0;34m\u001b[0m\u001b[0m\n\u001b[0m\u001b[1;32m    266\u001b[0m \u001b[0;34m\u001b[0m\u001b[0m\n\u001b[1;32m    267\u001b[0m \u001b[0;34m\u001b[0m\u001b[0m\n",
            "\u001b[0;32m/usr/local/lib/python3.11/dist-packages/pyngrok/process.py\u001b[0m in \u001b[0;36m_start_process\u001b[0;34m(pyngrok_config)\u001b[0m\n\u001b[1;32m    426\u001b[0m \u001b[0;34m\u001b[0m\u001b[0m\n\u001b[1;32m    427\u001b[0m         \u001b[0;32mif\u001b[0m \u001b[0mngrok_process\u001b[0m\u001b[0;34m.\u001b[0m\u001b[0mstartup_error\u001b[0m \u001b[0;32mis\u001b[0m \u001b[0;32mnot\u001b[0m \u001b[0;32mNone\u001b[0m\u001b[0;34m:\u001b[0m\u001b[0;34m\u001b[0m\u001b[0;34m\u001b[0m\u001b[0m\n\u001b[0;32m--> 428\u001b[0;31m             raise PyngrokNgrokError(f\"The ngrok process errored on start: {ngrok_process.startup_error}.\",\n\u001b[0m\u001b[1;32m    429\u001b[0m                                     \u001b[0mngrok_process\u001b[0m\u001b[0;34m.\u001b[0m\u001b[0mlogs\u001b[0m\u001b[0;34m,\u001b[0m\u001b[0;34m\u001b[0m\u001b[0;34m\u001b[0m\u001b[0m\n\u001b[1;32m    430\u001b[0m                                     ngrok_process.startup_error)\n",
            "\u001b[0;31mPyngrokNgrokError\u001b[0m: The ngrok process errored on start: authentication failed: Usage of ngrok requires a verified account and authtoken.\\n\\nSign up for an account: https://dashboard.ngrok.com/signup\\nInstall your authtoken: https://dashboard.ngrok.com/get-started/your-authtoken\\r\\n\\r\\nERR_NGROK_4018\\r\\n."
          ]
        }
      ]
    },
    {
      "cell_type": "code",
      "source": [
        "!ngrok authtoken 2sMt0De8FpNw09TDpGHoXAvkFaU_2fNNMmr4bpno7YDHoqqPk\n"
      ],
      "metadata": {
        "colab": {
          "base_uri": "https://localhost:8080/"
        },
        "id": "vcPzD5TtYcNh",
        "outputId": "58af7298-9c9b-442c-918f-f7826ff364b3"
      },
      "execution_count": null,
      "outputs": [
        {
          "output_type": "stream",
          "name": "stdout",
          "text": [
            "Authtoken saved to configuration file: /root/.config/ngrok/ngrok.yml\n"
          ]
        }
      ]
    },
    {
      "cell_type": "code",
      "source": [
        "from pyngrok import ngrok\n",
        "\n",
        "# Start Streamlit in the background\n",
        "!streamlit run app.py &\n",
        "\n",
        "# Expose the local server to the internet\n",
        "public_url = ngrok.connect(port=\"8501\")\n",
        "print(f\"🌍 Click this link to open your web app: {public_url}\")\n"
      ],
      "metadata": {
        "colab": {
          "base_uri": "https://localhost:8080/",
          "height": 654
        },
        "id": "QU0lKbaCZEMf",
        "outputId": "a9718e74-4473-4401-c5de-6452b7e30622"
      },
      "execution_count": null,
      "outputs": [
        {
          "output_type": "stream",
          "name": "stdout",
          "text": [
            "\n",
            "Collecting usage statistics. To deactivate, set browser.gatherUsageStats to false.\n",
            "\u001b[0m\n",
            "\u001b[0m\n",
            "\u001b[34m\u001b[1m  You can now view your Streamlit app in your browser.\u001b[0m\n",
            "\u001b[0m\n",
            "\u001b[34m  Local URL: \u001b[0m\u001b[1mhttp://localhost:8502\u001b[0m\n",
            "\u001b[34m  Network URL: \u001b[0m\u001b[1mhttp://172.28.0.12:8502\u001b[0m\n",
            "\u001b[34m  External URL: \u001b[0m\u001b[1mhttp://34.66.70.94:8502\u001b[0m\n",
            "\u001b[0m\n",
            "\u001b[34m  Stopping...\u001b[0m\n"
          ]
        },
        {
          "output_type": "stream",
          "name": "stderr",
          "text": [
            "WARNING:pyngrok.process.ngrok:t=2025-01-30T22:49:22+0000 lvl=warn msg=\"invalid tunnel configuration\" pg=/api/tunnels id=c6c6be47f6e97cfc err=\"yaml: unmarshal errors:\\n  line 1: field port not found in type config.HTTPv2Tunnel\"\n"
          ]
        },
        {
          "output_type": "error",
          "ename": "PyngrokNgrokHTTPError",
          "evalue": "ngrok client exception, API returned 400: {\"error_code\":102,\"status_code\":400,\"msg\":\"invalid tunnel configuration\",\"details\":{\"err\":\"yaml: unmarshal errors:\\n  line 1: field port not found in type config.HTTPv2Tunnel\"}}\n",
          "traceback": [
            "\u001b[0;31m---------------------------------------------------------------------------\u001b[0m",
            "\u001b[0;31mHTTPError\u001b[0m                                 Traceback (most recent call last)",
            "\u001b[0;32m/usr/local/lib/python3.11/dist-packages/pyngrok/ngrok.py\u001b[0m in \u001b[0;36mapi_request\u001b[0;34m(url, method, data, params, timeout, auth)\u001b[0m\n\u001b[1;32m    556\u001b[0m     \u001b[0;32mtry\u001b[0m\u001b[0;34m:\u001b[0m\u001b[0;34m\u001b[0m\u001b[0;34m\u001b[0m\u001b[0m\n\u001b[0;32m--> 557\u001b[0;31m         \u001b[0mresponse\u001b[0m \u001b[0;34m=\u001b[0m \u001b[0murlopen\u001b[0m\u001b[0;34m(\u001b[0m\u001b[0mrequest\u001b[0m\u001b[0;34m,\u001b[0m \u001b[0mencoded_data\u001b[0m\u001b[0;34m,\u001b[0m \u001b[0mtimeout\u001b[0m\u001b[0;34m)\u001b[0m\u001b[0;34m\u001b[0m\u001b[0;34m\u001b[0m\u001b[0m\n\u001b[0m\u001b[1;32m    558\u001b[0m         \u001b[0mresponse_data\u001b[0m \u001b[0;34m=\u001b[0m \u001b[0mresponse\u001b[0m\u001b[0;34m.\u001b[0m\u001b[0mread\u001b[0m\u001b[0;34m(\u001b[0m\u001b[0;34m)\u001b[0m\u001b[0;34m.\u001b[0m\u001b[0mdecode\u001b[0m\u001b[0;34m(\u001b[0m\u001b[0;34m\"utf-8\"\u001b[0m\u001b[0;34m)\u001b[0m\u001b[0;34m\u001b[0m\u001b[0;34m\u001b[0m\u001b[0m\n",
            "\u001b[0;32m/usr/lib/python3.11/urllib/request.py\u001b[0m in \u001b[0;36murlopen\u001b[0;34m(url, data, timeout, cafile, capath, cadefault, context)\u001b[0m\n\u001b[1;32m    215\u001b[0m         \u001b[0mopener\u001b[0m \u001b[0;34m=\u001b[0m \u001b[0m_opener\u001b[0m\u001b[0;34m\u001b[0m\u001b[0;34m\u001b[0m\u001b[0m\n\u001b[0;32m--> 216\u001b[0;31m     \u001b[0;32mreturn\u001b[0m \u001b[0mopener\u001b[0m\u001b[0;34m.\u001b[0m\u001b[0mopen\u001b[0m\u001b[0;34m(\u001b[0m\u001b[0murl\u001b[0m\u001b[0;34m,\u001b[0m \u001b[0mdata\u001b[0m\u001b[0;34m,\u001b[0m \u001b[0mtimeout\u001b[0m\u001b[0;34m)\u001b[0m\u001b[0;34m\u001b[0m\u001b[0;34m\u001b[0m\u001b[0m\n\u001b[0m\u001b[1;32m    217\u001b[0m \u001b[0;34m\u001b[0m\u001b[0m\n",
            "\u001b[0;32m/usr/lib/python3.11/urllib/request.py\u001b[0m in \u001b[0;36mopen\u001b[0;34m(self, fullurl, data, timeout)\u001b[0m\n\u001b[1;32m    524\u001b[0m             \u001b[0mmeth\u001b[0m \u001b[0;34m=\u001b[0m \u001b[0mgetattr\u001b[0m\u001b[0;34m(\u001b[0m\u001b[0mprocessor\u001b[0m\u001b[0;34m,\u001b[0m \u001b[0mmeth_name\u001b[0m\u001b[0;34m)\u001b[0m\u001b[0;34m\u001b[0m\u001b[0;34m\u001b[0m\u001b[0m\n\u001b[0;32m--> 525\u001b[0;31m             \u001b[0mresponse\u001b[0m \u001b[0;34m=\u001b[0m \u001b[0mmeth\u001b[0m\u001b[0;34m(\u001b[0m\u001b[0mreq\u001b[0m\u001b[0;34m,\u001b[0m \u001b[0mresponse\u001b[0m\u001b[0;34m)\u001b[0m\u001b[0;34m\u001b[0m\u001b[0;34m\u001b[0m\u001b[0m\n\u001b[0m\u001b[1;32m    526\u001b[0m \u001b[0;34m\u001b[0m\u001b[0m\n",
            "\u001b[0;32m/usr/lib/python3.11/urllib/request.py\u001b[0m in \u001b[0;36mhttp_response\u001b[0;34m(self, request, response)\u001b[0m\n\u001b[1;32m    633\u001b[0m         \u001b[0;32mif\u001b[0m \u001b[0;32mnot\u001b[0m \u001b[0;34m(\u001b[0m\u001b[0;36m200\u001b[0m \u001b[0;34m<=\u001b[0m \u001b[0mcode\u001b[0m \u001b[0;34m<\u001b[0m \u001b[0;36m300\u001b[0m\u001b[0;34m)\u001b[0m\u001b[0;34m:\u001b[0m\u001b[0;34m\u001b[0m\u001b[0;34m\u001b[0m\u001b[0m\n\u001b[0;32m--> 634\u001b[0;31m             response = self.parent.error(\n\u001b[0m\u001b[1;32m    635\u001b[0m                 'http', request, response, code, msg, hdrs)\n",
            "\u001b[0;32m/usr/lib/python3.11/urllib/request.py\u001b[0m in \u001b[0;36merror\u001b[0;34m(self, proto, *args)\u001b[0m\n\u001b[1;32m    562\u001b[0m             \u001b[0margs\u001b[0m \u001b[0;34m=\u001b[0m \u001b[0;34m(\u001b[0m\u001b[0mdict\u001b[0m\u001b[0;34m,\u001b[0m \u001b[0;34m'default'\u001b[0m\u001b[0;34m,\u001b[0m \u001b[0;34m'http_error_default'\u001b[0m\u001b[0;34m)\u001b[0m \u001b[0;34m+\u001b[0m \u001b[0morig_args\u001b[0m\u001b[0;34m\u001b[0m\u001b[0;34m\u001b[0m\u001b[0m\n\u001b[0;32m--> 563\u001b[0;31m             \u001b[0;32mreturn\u001b[0m \u001b[0mself\u001b[0m\u001b[0;34m.\u001b[0m\u001b[0m_call_chain\u001b[0m\u001b[0;34m(\u001b[0m\u001b[0;34m*\u001b[0m\u001b[0margs\u001b[0m\u001b[0;34m)\u001b[0m\u001b[0;34m\u001b[0m\u001b[0;34m\u001b[0m\u001b[0m\n\u001b[0m\u001b[1;32m    564\u001b[0m \u001b[0;34m\u001b[0m\u001b[0m\n",
            "\u001b[0;32m/usr/lib/python3.11/urllib/request.py\u001b[0m in \u001b[0;36m_call_chain\u001b[0;34m(self, chain, kind, meth_name, *args)\u001b[0m\n\u001b[1;32m    495\u001b[0m             \u001b[0mfunc\u001b[0m \u001b[0;34m=\u001b[0m \u001b[0mgetattr\u001b[0m\u001b[0;34m(\u001b[0m\u001b[0mhandler\u001b[0m\u001b[0;34m,\u001b[0m \u001b[0mmeth_name\u001b[0m\u001b[0;34m)\u001b[0m\u001b[0;34m\u001b[0m\u001b[0;34m\u001b[0m\u001b[0m\n\u001b[0;32m--> 496\u001b[0;31m             \u001b[0mresult\u001b[0m \u001b[0;34m=\u001b[0m \u001b[0mfunc\u001b[0m\u001b[0;34m(\u001b[0m\u001b[0;34m*\u001b[0m\u001b[0margs\u001b[0m\u001b[0;34m)\u001b[0m\u001b[0;34m\u001b[0m\u001b[0;34m\u001b[0m\u001b[0m\n\u001b[0m\u001b[1;32m    497\u001b[0m             \u001b[0;32mif\u001b[0m \u001b[0mresult\u001b[0m \u001b[0;32mis\u001b[0m \u001b[0;32mnot\u001b[0m \u001b[0;32mNone\u001b[0m\u001b[0;34m:\u001b[0m\u001b[0;34m\u001b[0m\u001b[0;34m\u001b[0m\u001b[0m\n",
            "\u001b[0;32m/usr/lib/python3.11/urllib/request.py\u001b[0m in \u001b[0;36mhttp_error_default\u001b[0;34m(self, req, fp, code, msg, hdrs)\u001b[0m\n\u001b[1;32m    642\u001b[0m     \u001b[0;32mdef\u001b[0m \u001b[0mhttp_error_default\u001b[0m\u001b[0;34m(\u001b[0m\u001b[0mself\u001b[0m\u001b[0;34m,\u001b[0m \u001b[0mreq\u001b[0m\u001b[0;34m,\u001b[0m \u001b[0mfp\u001b[0m\u001b[0;34m,\u001b[0m \u001b[0mcode\u001b[0m\u001b[0;34m,\u001b[0m \u001b[0mmsg\u001b[0m\u001b[0;34m,\u001b[0m \u001b[0mhdrs\u001b[0m\u001b[0;34m)\u001b[0m\u001b[0;34m:\u001b[0m\u001b[0;34m\u001b[0m\u001b[0;34m\u001b[0m\u001b[0m\n\u001b[0;32m--> 643\u001b[0;31m         \u001b[0;32mraise\u001b[0m \u001b[0mHTTPError\u001b[0m\u001b[0;34m(\u001b[0m\u001b[0mreq\u001b[0m\u001b[0;34m.\u001b[0m\u001b[0mfull_url\u001b[0m\u001b[0;34m,\u001b[0m \u001b[0mcode\u001b[0m\u001b[0;34m,\u001b[0m \u001b[0mmsg\u001b[0m\u001b[0;34m,\u001b[0m \u001b[0mhdrs\u001b[0m\u001b[0;34m,\u001b[0m \u001b[0mfp\u001b[0m\u001b[0;34m)\u001b[0m\u001b[0;34m\u001b[0m\u001b[0;34m\u001b[0m\u001b[0m\n\u001b[0m\u001b[1;32m    644\u001b[0m \u001b[0;34m\u001b[0m\u001b[0m\n",
            "\u001b[0;31mHTTPError\u001b[0m: HTTP Error 400: Bad Request",
            "\nDuring handling of the above exception, another exception occurred:\n",
            "\u001b[0;31mPyngrokNgrokHTTPError\u001b[0m                     Traceback (most recent call last)",
            "\u001b[0;32m<ipython-input-35-bf58c0fe5345>\u001b[0m in \u001b[0;36m<cell line: 0>\u001b[0;34m()\u001b[0m\n\u001b[1;32m      5\u001b[0m \u001b[0;34m\u001b[0m\u001b[0m\n\u001b[1;32m      6\u001b[0m \u001b[0;31m# Expose the local server to the internet\u001b[0m\u001b[0;34m\u001b[0m\u001b[0;34m\u001b[0m\u001b[0m\n\u001b[0;32m----> 7\u001b[0;31m \u001b[0mpublic_url\u001b[0m \u001b[0;34m=\u001b[0m \u001b[0mngrok\u001b[0m\u001b[0;34m.\u001b[0m\u001b[0mconnect\u001b[0m\u001b[0;34m(\u001b[0m\u001b[0mport\u001b[0m\u001b[0;34m=\u001b[0m\u001b[0;34m\"8501\"\u001b[0m\u001b[0;34m)\u001b[0m\u001b[0;34m\u001b[0m\u001b[0;34m\u001b[0m\u001b[0m\n\u001b[0m\u001b[1;32m      8\u001b[0m \u001b[0mprint\u001b[0m\u001b[0;34m(\u001b[0m\u001b[0;34mf\"🌍 Click this link to open your web app: {public_url}\"\u001b[0m\u001b[0;34m)\u001b[0m\u001b[0;34m\u001b[0m\u001b[0;34m\u001b[0m\u001b[0m\n",
            "\u001b[0;32m/usr/local/lib/python3.11/dist-packages/pyngrok/ngrok.py\u001b[0m in \u001b[0;36mconnect\u001b[0;34m(addr, proto, name, pyngrok_config, **options)\u001b[0m\n\u001b[1;32m    353\u001b[0m     \u001b[0mlogger\u001b[0m\u001b[0;34m.\u001b[0m\u001b[0mdebug\u001b[0m\u001b[0;34m(\u001b[0m\u001b[0;34mf\"Creating tunnel with options: {options}\"\u001b[0m\u001b[0;34m)\u001b[0m\u001b[0;34m\u001b[0m\u001b[0;34m\u001b[0m\u001b[0m\n\u001b[1;32m    354\u001b[0m \u001b[0;34m\u001b[0m\u001b[0m\n\u001b[0;32m--> 355\u001b[0;31m     tunnel = NgrokTunnel(api_request(f\"{api_url}/api/tunnels\", method=\"POST\", data=options,\n\u001b[0m\u001b[1;32m    356\u001b[0m                                      timeout=pyngrok_config.request_timeout),\n\u001b[1;32m    357\u001b[0m                          pyngrok_config, api_url)\n",
            "\u001b[0;32m/usr/local/lib/python3.11/dist-packages/pyngrok/ngrok.py\u001b[0m in \u001b[0;36mapi_request\u001b[0;34m(url, method, data, params, timeout, auth)\u001b[0m\n\u001b[1;32m    576\u001b[0m         \u001b[0mlogger\u001b[0m\u001b[0;34m.\u001b[0m\u001b[0mdebug\u001b[0m\u001b[0;34m(\u001b[0m\u001b[0;34mf\"Response {status_code}: {response_data.strip()}\"\u001b[0m\u001b[0;34m)\u001b[0m\u001b[0;34m\u001b[0m\u001b[0;34m\u001b[0m\u001b[0m\n\u001b[1;32m    577\u001b[0m \u001b[0;34m\u001b[0m\u001b[0m\n\u001b[0;32m--> 578\u001b[0;31m         raise PyngrokNgrokHTTPError(f\"ngrok client exception, API returned {status_code}: {response_data}\",\n\u001b[0m\u001b[1;32m    579\u001b[0m                                     \u001b[0me\u001b[0m\u001b[0;34m.\u001b[0m\u001b[0murl\u001b[0m\u001b[0;34m,\u001b[0m\u001b[0;34m\u001b[0m\u001b[0;34m\u001b[0m\u001b[0m\n\u001b[1;32m    580\u001b[0m                                     status_code, e.reason, e.headers, response_data)\n",
            "\u001b[0;31mPyngrokNgrokHTTPError\u001b[0m: ngrok client exception, API returned 400: {\"error_code\":102,\"status_code\":400,\"msg\":\"invalid tunnel configuration\",\"details\":{\"err\":\"yaml: unmarshal errors:\\n  line 1: field port not found in type config.HTTPv2Tunnel\"}}\n"
          ]
        }
      ]
    },
    {
      "cell_type": "code",
      "source": [
        "# Save the trained CatBoost model\n",
        "cat_model.save_model(\"catboost_neet_model.cbm\")\n",
        "\n",
        "# Ensure the Streamlit script exists\n",
        "%%writefile app.py\n",
        "import streamlit as st\n",
        "import pandas as pd\n",
        "import numpy as np\n",
        "import matplotlib.pyplot as plt\n",
        "import seaborn as sns\n",
        "from catboost import CatBoostRegressor\n",
        "\n",
        "# Load trained CatBoost Model\n",
        "@st.cache_resource\n",
        "def load_model():\n",
        "    model = CatBoostRegressor()\n",
        "    model.load_model(\"catboost_neet_model.cbm\")  # Load saved model\n",
        "    return model\n",
        "\n",
        "model = load_model()\n",
        "\n",
        "st.title(\"🎯 NEET Rank Predictor & Student Performance Analyzer\")\n",
        "\n",
        "uploaded_file = st.file_uploader(\"📂 Upload your quiz performance data (CSV)\", type=[\"csv\"])\n",
        "if uploaded_file:\n",
        "    df = pd.read_csv(uploaded_file)\n",
        "    st.write(\"📊 Sample Data Preview:\")\n",
        "    st.dataframe(df.head())\n",
        "\n",
        "    st.subheader(\"🎯 NEET Rank Prediction\")\n",
        "    if \"score\" in df.columns:\n",
        "        df[\"predicted_neet_rank\"] = df[\"score\"].apply(lambda x: int(model.predict(np.array([[x]]))[0]))\n",
        "        st.dataframe(df[[\"score\", \"predicted_neet_rank\"]])\n",
        "        st.success(\"✅ NEET Rank Prediction Completed!\")\n",
        "    else:\n",
        "        st.error(\"❌ The uploaded file must contain a 'score' column to predict NEET Rank.\")\n"
      ],
      "metadata": {
        "colab": {
          "base_uri": "https://localhost:8080/"
        },
        "id": "HySrrIRqZHto",
        "outputId": "5020b3a4-4548-4baf-fe48-dc86d5052193"
      },
      "execution_count": null,
      "outputs": [
        {
          "output_type": "stream",
          "name": "stderr",
          "text": [
            "UsageError: Line magic function `%%writefile` not found.\n"
          ]
        }
      ]
    },
    {
      "cell_type": "code",
      "source": [
        "%%writefile app.py\n",
        "import streamlit as st\n",
        "import pandas as pd\n",
        "import numpy as np\n",
        "import matplotlib.pyplot as plt\n",
        "import seaborn as sns\n",
        "from catboost import CatBoostRegressor\n",
        "\n",
        "# Load trained CatBoost Model\n",
        "@st.cache_resource\n",
        "def load_model():\n",
        "    model = CatBoostRegressor()\n",
        "    model.load_model(\"catboost_neet_model.cbm\")  # Load saved model\n",
        "    return model\n",
        "\n",
        "model = load_model()\n",
        "\n",
        "# Web App Title\n",
        "st.title(\"🎯 NEET Rank Predictor & Student Performance Analyzer\")\n",
        "\n",
        "# Upload CSV File\n",
        "uploaded_file = st.file_uploader(\"📂 Upload your quiz performance data (CSV)\", type=[\"csv\"])\n",
        "if uploaded_file:\n",
        "    df = pd.read_csv(uploaded_file)\n",
        "    st.write(\"🛠 Available Columns in Uploaded Data:\")\n",
        "    st.write(df.columns.tolist())  # Prints all column names\n",
        "    st.write(\"📊 Sample Data Preview:\")\n",
        "    st.dataframe(df.head())\n",
        "\n",
        "    # 🎯 Generate Insights: Identify Weak Areas & Performance Gaps\n",
        "    st.subheader(\"📉 Insights: Weak Areas & Performance Gaps\")\n",
        "\n",
        "    # Identify weak subjects\n",
        "   # Check if \"subject\" exists, otherwise use an alternative column\n",
        "    if \"subject\" in df.columns:\n",
        "      weak_subjects = df[df[\"accuracy\"] < 50][\"subject\"].unique()\n",
        "    elif \"topic\" in df.columns:  # If \"subject\" is missing, try \"topic\"\n",
        "      weak_subjects = df[df[\"accuracy\"] < 50][\"topic\"].unique()\n",
        "    else:\n",
        "      weak_subjects = []  # Empty if neither column exists\n",
        "\n",
        "    if len(weak_subjects) > 0:\n",
        "        st.warning(f\"❌ Weak Subjects: {', '.join(weak_subjects)} (Accuracy < 50%)\")\n",
        "    else:\n",
        "        st.success(\"✅ No major weak subjects detected!\")\n",
        "\n",
        "    # Identify most common mistake topics\n",
        "    mistake_counts = df.groupby(\"topic\")[\"mistakes\"].sum().sort_values(ascending=False)\n",
        "    st.write(\"📌 Topics where most mistakes happen:\")\n",
        "    st.dataframe(mistake_counts.head(5))\n",
        "\n",
        "    # Plot accuracy trends over time\n",
        "    st.subheader(\"📈 Accuracy Trends Over Time\")\n",
        "    plt.figure(figsize=(8, 5))\n",
        "    sns.lineplot(x=df.index, y=df[\"accuracy\"], marker=\"o\")\n",
        "    plt.xlabel(\"Quiz Number\")\n",
        "    plt.ylabel(\"Accuracy (%)\")\n",
        "    plt.title(\"Student Accuracy Improvement Over Time\")\n",
        "    st.pyplot(plt)\n",
        "\n",
        "    # 🎯 Personalized Study Recommendations\n",
        "    st.subheader(\"📌 Personalized Study Recommendations\")\n",
        "    recommendations = []\n",
        "\n",
        "    # Check for common weak topics\n",
        "    if len(weak_subjects) > 0:\n",
        "        recommendations.append(f\"⚠ Focus more on weak subjects: {', '.join(weak_subjects)}.\")\n",
        "\n",
        "    # Check accuracy vs difficulty level\n",
        "    if \"difficulty\" in df.columns:\n",
        "        hard_accuracy = df[df[\"difficulty\"] == \"Hard\"][\"accuracy\"].mean()\n",
        "        if hard_accuracy < 50:\n",
        "            recommendations.append(\"🔥 Practice more difficult-level questions to improve confidence.\")\n",
        "\n",
        "    # General improvement recommendations\n",
        "    if df[\"accuracy\"].mean() < 70:\n",
        "        recommendations.append(\"📚 Revise core concepts and practice more mock tests.\")\n",
        "\n",
        "    if len(recommendations) > 0:\n",
        "        for rec in recommendations:\n",
        "            st.warning(rec)\n",
        "    else:\n",
        "        st.success(\"✅ You're on track! Keep practicing.\")\n",
        "\n",
        "    # 🧑‍🎓 Student Persona Analysis\n",
        "    st.subheader(\"🧑‍🎓 Student Persona Analysis\")\n",
        "\n",
        "    avg_accuracy = df[\"accuracy\"].mean()\n",
        "    avg_speed = df[\"speed\"].mean() if \"speed\" in df.columns else None\n",
        "    avg_mistakes = df[\"mistakes\"].mean()\n",
        "\n",
        "    # Define persona based on accuracy & speed\n",
        "    if avg_accuracy >= 85:\n",
        "        persona = \"🔥 High Achiever - Excels in Accuracy\"\n",
        "    elif avg_accuracy >= 70:\n",
        "        persona = \"📚 Concept Builder - Strong, but Needs More Practice\"\n",
        "    else:\n",
        "        persona = \"⚡ Risk Taker - Needs to Improve Accuracy\"\n",
        "\n",
        "    if avg_speed and avg_speed >= 90:\n",
        "        persona += \" 🏃 (Fast Learner)\"\n",
        "    elif avg_speed and avg_speed < 60:\n",
        "        persona += \" 🐢 (Needs to Improve Speed)\"\n",
        "\n",
        "    if avg_mistakes > 10:\n",
        "        persona += \" ❌ (Tends to Make Many Mistakes)\"\n",
        "\n",
        "    st.success(f\"**Student Persona: {persona}**\")\n",
        "\n",
        "    # 🎯 Probabilistic Model for NEET Rank Prediction\n",
        "    st.subheader(\"🎯 Predicting NEET Rank with Probabilistic Model\")\n",
        "\n",
        "    def predict_neet_rank(score, accuracy):\n",
        "        base_rank = 50000  # Approximate base rank\n",
        "        score_factor = (1 - (score / 200)) * 20000  # Score impact\n",
        "        accuracy_factor = (1 - accuracy) * 20000  # Accuracy impact\n",
        "        predicted_rank = base_rank - score_factor - accuracy_factor\n",
        "        return max(1, int(predicted_rank))\n",
        "\n",
        "    df[\"predicted_neet_rank\"] = df.apply(lambda row: predict_neet_rank(row[\"score\"], row[\"accuracy\"]), axis=1)\n",
        "    st.dataframe(df[[\"score\", \"accuracy\", \"predicted_neet_rank\"]])\n",
        "\n",
        "    # Show predicted vs actual ranks (if available)\n",
        "    if \"actual_rank\" in df.columns:\n",
        "        plt.figure(figsize=(8, 5))\n",
        "        sns.scatterplot(x=df[\"actual_rank\"], y=df[\"predicted_neet_rank\"], color=\"blue\")\n",
        "        plt.plot([0, 100000], [0, 100000], linestyle=\"--\", color=\"red\")  # Reference line\n",
        "        plt.title(\"Predicted vs Actual NEET Rank\")\n",
        "        plt.xlabel(\"Actual NEET Rank\")\n",
        "        plt.ylabel(\"Predicted NEET Rank\")\n",
        "        st.pyplot(plt)\n",
        "\n",
        "    st.success(\"✅ NEET Rank Prediction Completed!\")\n"
      ],
      "metadata": {
        "colab": {
          "base_uri": "https://localhost:8080/"
        },
        "id": "cGazCnfhZ7Bm",
        "outputId": "dad2c3e6-5b91-4378-9f41-fb89f538447a"
      },
      "execution_count": null,
      "outputs": [
        {
          "output_type": "stream",
          "name": "stdout",
          "text": [
            "Overwriting app.py\n"
          ]
        }
      ]
    },
    {
      "cell_type": "code",
      "source": [],
      "metadata": {
        "id": "ytIc-cEDaMlw"
      },
      "execution_count": null,
      "outputs": []
    }
  ]
}